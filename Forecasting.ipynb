{
 "cells": [
  {
   "cell_type": "markdown",
   "id": "dc5a0c4a",
   "metadata": {
    "id": "dc5a0c4a"
   },
   "source": [
    "### Importing the libraries"
   ]
  },
  {
   "cell_type": "code",
   "execution_count": 1,
   "id": "fd93aee7",
   "metadata": {
    "executionInfo": {
     "elapsed": 6214,
     "status": "ok",
     "timestamp": 1691987277637,
     "user": {
      "displayName": "Lavkush Chaudhary",
      "userId": "01013648497488669597"
     },
     "user_tz": -330
    },
    "id": "fd93aee7"
   },
   "outputs": [],
   "source": [
    "import pandas as pd\n",
    "import numpy as np\n",
    "import seaborn as sns\n",
    "import matplotlib.pyplot as plt\n",
    "from statsmodels.graphics.tsaplots import plot_acf\n",
    "from pandas.plotting import lag_plot\n",
    "import statsmodels.api as sm\n",
    "from scipy import stats\n",
    "import requests\n",
    "import statsmodels.formula.api as smf\n",
    "from statsmodels.tsa.arima.model import ARIMA\n",
    "from sklearn.metrics import mean_absolute_error\n",
    "from sklearn.metrics import mean_squared_error\n",
    "from sklearn.preprocessing import MinMaxScaler\n",
    "from tensorflow.keras.models import Sequential\n",
    "from tensorflow.keras.layers import LSTM, Dense"
   ]
  },
  {
   "cell_type": "markdown",
   "id": "5f46f47e",
   "metadata": {
    "id": "5f46f47e"
   },
   "source": [
    "### Getting the data from the website named :alphavantage"
   ]
  },
  {
   "cell_type": "code",
   "execution_count": 2,
   "id": "6dd2c753",
   "metadata": {
    "executionInfo": {
     "elapsed": 50,
     "status": "ok",
     "timestamp": 1691987277639,
     "user": {
      "displayName": "Lavkush Chaudhary",
      "userId": "01013648497488669597"
     },
     "user_tz": -330
    },
    "id": "6dd2c753",
    "scrolled": false
   },
   "outputs": [],
   "source": [
    "url = 'https://www.alphavantage.co/query?function=BRENT&interval=daily&apikey=G47FZC6JH4IKPIFO'\n",
    "r = requests.get(url)\n",
    "data = r.json()"
   ]
  },
  {
   "cell_type": "code",
   "execution_count": 3,
   "id": "095a89c4",
   "metadata": {
    "colab": {
     "base_uri": "https://localhost:8080/",
     "height": 423
    },
    "executionInfo": {
     "elapsed": 47,
     "status": "ok",
     "timestamp": 1691987277640,
     "user": {
      "displayName": "Lavkush Chaudhary",
      "userId": "01013648497488669597"
     },
     "user_tz": -330
    },
    "id": "095a89c4",
    "outputId": "575ce2f1-4b38-4284-fa97-cdaf2a4c081f",
    "scrolled": false
   },
   "outputs": [
    {
     "data": {
      "text/html": [
       "<div>\n",
       "<style scoped>\n",
       "    .dataframe tbody tr th:only-of-type {\n",
       "        vertical-align: middle;\n",
       "    }\n",
       "\n",
       "    .dataframe tbody tr th {\n",
       "        vertical-align: top;\n",
       "    }\n",
       "\n",
       "    .dataframe thead th {\n",
       "        text-align: right;\n",
       "    }\n",
       "</style>\n",
       "<table border=\"1\" class=\"dataframe\">\n",
       "  <thead>\n",
       "    <tr style=\"text-align: right;\">\n",
       "      <th></th>\n",
       "      <th>name</th>\n",
       "      <th>interval</th>\n",
       "      <th>unit</th>\n",
       "      <th>data</th>\n",
       "    </tr>\n",
       "  </thead>\n",
       "  <tbody>\n",
       "    <tr>\n",
       "      <th>0</th>\n",
       "      <td>Crude Oil Prices Brent</td>\n",
       "      <td>daily</td>\n",
       "      <td>dollars per barrel</td>\n",
       "      <td>{'date': '2023-08-07', 'value': '86.47'}</td>\n",
       "    </tr>\n",
       "    <tr>\n",
       "      <th>1</th>\n",
       "      <td>Crude Oil Prices Brent</td>\n",
       "      <td>daily</td>\n",
       "      <td>dollars per barrel</td>\n",
       "      <td>{'date': '2023-08-04', 'value': '87.38'}</td>\n",
       "    </tr>\n",
       "    <tr>\n",
       "      <th>2</th>\n",
       "      <td>Crude Oil Prices Brent</td>\n",
       "      <td>daily</td>\n",
       "      <td>dollars per barrel</td>\n",
       "      <td>{'date': '2023-08-03', 'value': '86.19'}</td>\n",
       "    </tr>\n",
       "    <tr>\n",
       "      <th>3</th>\n",
       "      <td>Crude Oil Prices Brent</td>\n",
       "      <td>daily</td>\n",
       "      <td>dollars per barrel</td>\n",
       "      <td>{'date': '2023-08-02', 'value': '84.01'}</td>\n",
       "    </tr>\n",
       "    <tr>\n",
       "      <th>4</th>\n",
       "      <td>Crude Oil Prices Brent</td>\n",
       "      <td>daily</td>\n",
       "      <td>dollars per barrel</td>\n",
       "      <td>{'date': '2023-08-01', 'value': '85.34'}</td>\n",
       "    </tr>\n",
       "    <tr>\n",
       "      <th>...</th>\n",
       "      <td>...</td>\n",
       "      <td>...</td>\n",
       "      <td>...</td>\n",
       "      <td>...</td>\n",
       "    </tr>\n",
       "    <tr>\n",
       "      <th>9444</th>\n",
       "      <td>Crude Oil Prices Brent</td>\n",
       "      <td>daily</td>\n",
       "      <td>dollars per barrel</td>\n",
       "      <td>{'date': '1987-05-26', 'value': '18.63'}</td>\n",
       "    </tr>\n",
       "    <tr>\n",
       "      <th>9445</th>\n",
       "      <td>Crude Oil Prices Brent</td>\n",
       "      <td>daily</td>\n",
       "      <td>dollars per barrel</td>\n",
       "      <td>{'date': '1987-05-25', 'value': '18.60'}</td>\n",
       "    </tr>\n",
       "    <tr>\n",
       "      <th>9446</th>\n",
       "      <td>Crude Oil Prices Brent</td>\n",
       "      <td>daily</td>\n",
       "      <td>dollars per barrel</td>\n",
       "      <td>{'date': '1987-05-22', 'value': '18.55'}</td>\n",
       "    </tr>\n",
       "    <tr>\n",
       "      <th>9447</th>\n",
       "      <td>Crude Oil Prices Brent</td>\n",
       "      <td>daily</td>\n",
       "      <td>dollars per barrel</td>\n",
       "      <td>{'date': '1987-05-21', 'value': '18.45'}</td>\n",
       "    </tr>\n",
       "    <tr>\n",
       "      <th>9448</th>\n",
       "      <td>Crude Oil Prices Brent</td>\n",
       "      <td>daily</td>\n",
       "      <td>dollars per barrel</td>\n",
       "      <td>{'date': '1987-05-20', 'value': '18.63'}</td>\n",
       "    </tr>\n",
       "  </tbody>\n",
       "</table>\n",
       "<p>9449 rows × 4 columns</p>\n",
       "</div>"
      ],
      "text/plain": [
       "                        name interval                unit   \n",
       "0     Crude Oil Prices Brent    daily  dollars per barrel  \\\n",
       "1     Crude Oil Prices Brent    daily  dollars per barrel   \n",
       "2     Crude Oil Prices Brent    daily  dollars per barrel   \n",
       "3     Crude Oil Prices Brent    daily  dollars per barrel   \n",
       "4     Crude Oil Prices Brent    daily  dollars per barrel   \n",
       "...                      ...      ...                 ...   \n",
       "9444  Crude Oil Prices Brent    daily  dollars per barrel   \n",
       "9445  Crude Oil Prices Brent    daily  dollars per barrel   \n",
       "9446  Crude Oil Prices Brent    daily  dollars per barrel   \n",
       "9447  Crude Oil Prices Brent    daily  dollars per barrel   \n",
       "9448  Crude Oil Prices Brent    daily  dollars per barrel   \n",
       "\n",
       "                                          data  \n",
       "0     {'date': '2023-08-07', 'value': '86.47'}  \n",
       "1     {'date': '2023-08-04', 'value': '87.38'}  \n",
       "2     {'date': '2023-08-03', 'value': '86.19'}  \n",
       "3     {'date': '2023-08-02', 'value': '84.01'}  \n",
       "4     {'date': '2023-08-01', 'value': '85.34'}  \n",
       "...                                        ...  \n",
       "9444  {'date': '1987-05-26', 'value': '18.63'}  \n",
       "9445  {'date': '1987-05-25', 'value': '18.60'}  \n",
       "9446  {'date': '1987-05-22', 'value': '18.55'}  \n",
       "9447  {'date': '1987-05-21', 'value': '18.45'}  \n",
       "9448  {'date': '1987-05-20', 'value': '18.63'}  \n",
       "\n",
       "[9449 rows x 4 columns]"
      ]
     },
     "execution_count": 3,
     "metadata": {},
     "output_type": "execute_result"
    }
   ],
   "source": [
    "df = pd.DataFrame(data)\n",
    "df"
   ]
  },
  {
   "cell_type": "markdown",
   "id": "c728596a",
   "metadata": {
    "id": "c728596a"
   },
   "source": [
    "### Extraxting only the data column from whole dataset"
   ]
  },
  {
   "cell_type": "code",
   "execution_count": 4,
   "id": "47aa3187",
   "metadata": {
    "executionInfo": {
     "elapsed": 43,
     "status": "ok",
     "timestamp": 1691987277641,
     "user": {
      "displayName": "Lavkush Chaudhary",
      "userId": "01013648497488669597"
     },
     "user_tz": -330
    },
    "id": "47aa3187"
   },
   "outputs": [],
   "source": [
    "df2 = df[['data']]"
   ]
  },
  {
   "cell_type": "code",
   "execution_count": 5,
   "id": "ea395e7e",
   "metadata": {
    "colab": {
     "base_uri": "https://localhost:8080/"
    },
    "executionInfo": {
     "elapsed": 43,
     "status": "ok",
     "timestamp": 1691987277642,
     "user": {
      "displayName": "Lavkush Chaudhary",
      "userId": "01013648497488669597"
     },
     "user_tz": -330
    },
    "id": "ea395e7e",
    "outputId": "c261ff58-1d58-4cc4-d386-59d90d7a79e1",
    "scrolled": true
   },
   "outputs": [
    {
     "name": "stdout",
     "output_type": "stream",
     "text": [
      "<class 'pandas.core.frame.DataFrame'>\n",
      "RangeIndex: 9449 entries, 0 to 9448\n",
      "Data columns (total 1 columns):\n",
      " #   Column  Non-Null Count  Dtype \n",
      "---  ------  --------------  ----- \n",
      " 0   data    9449 non-null   object\n",
      "dtypes: object(1)\n",
      "memory usage: 73.9+ KB\n"
     ]
    }
   ],
   "source": [
    "df2.info()"
   ]
  },
  {
   "cell_type": "markdown",
   "id": "774fc608",
   "metadata": {
    "id": "774fc608"
   },
   "source": [
    "### Modifiying the data into suitable form"
   ]
  },
  {
   "cell_type": "code",
   "execution_count": 6,
   "id": "09017b0a",
   "metadata": {
    "colab": {
     "base_uri": "https://localhost:8080/"
    },
    "executionInfo": {
     "elapsed": 37,
     "status": "ok",
     "timestamp": 1691987277644,
     "user": {
      "displayName": "Lavkush Chaudhary",
      "userId": "01013648497488669597"
     },
     "user_tz": -330
    },
    "id": "09017b0a",
    "outputId": "6d12213d-d9ff-4abc-db32-6c05b14f9e00",
    "scrolled": true
   },
   "outputs": [
    {
     "name": "stdout",
     "output_type": "stream",
     "text": [
      "            date  value\n",
      "0     2023-08-07  86.47\n",
      "1     2023-08-04  87.38\n",
      "2     2023-08-03  86.19\n",
      "3     2023-08-02  84.01\n",
      "4     2023-08-01  85.34\n",
      "...          ...    ...\n",
      "9444  1987-05-26  18.63\n",
      "9445  1987-05-25  18.60\n",
      "9446  1987-05-22  18.55\n",
      "9447  1987-05-21  18.45\n",
      "9448  1987-05-20  18.63\n",
      "\n",
      "[9449 rows x 2 columns]\n"
     ]
    },
    {
     "name": "stderr",
     "output_type": "stream",
     "text": [
      "C:\\Users\\Rohit Shelar\\AppData\\Local\\Temp\\ipykernel_21704\\2818618087.py:10: SettingWithCopyWarning: \n",
      "A value is trying to be set on a copy of a slice from a DataFrame.\n",
      "Try using .loc[row_indexer,col_indexer] = value instead\n",
      "\n",
      "See the caveats in the documentation: https://pandas.pydata.org/pandas-docs/stable/user_guide/indexing.html#returning-a-view-versus-a-copy\n",
      "  df2['date'], df2['value'] = zip(*df2['data'].apply(extract_values))\n",
      "C:\\Users\\Rohit Shelar\\AppData\\Local\\Temp\\ipykernel_21704\\2818618087.py:10: SettingWithCopyWarning: \n",
      "A value is trying to be set on a copy of a slice from a DataFrame.\n",
      "Try using .loc[row_indexer,col_indexer] = value instead\n",
      "\n",
      "See the caveats in the documentation: https://pandas.pydata.org/pandas-docs/stable/user_guide/indexing.html#returning-a-view-versus-a-copy\n",
      "  df2['date'], df2['value'] = zip(*df2['data'].apply(extract_values))\n",
      "C:\\Users\\Rohit Shelar\\AppData\\Local\\Temp\\ipykernel_21704\\2818618087.py:13: SettingWithCopyWarning: \n",
      "A value is trying to be set on a copy of a slice from a DataFrame\n",
      "\n",
      "See the caveats in the documentation: https://pandas.pydata.org/pandas-docs/stable/user_guide/indexing.html#returning-a-view-versus-a-copy\n",
      "  df2.drop(columns=['data'], inplace=True)\n"
     ]
    }
   ],
   "source": [
    "# Function to extract the values from the 'data' column\n",
    "def extract_values(row):\n",
    "    value = row['value'].replace(',', '.')\n",
    "    try:\n",
    "        return row['date'], float(value)\n",
    "    except ValueError:\n",
    "        return row['date'], None  # Return None for invalid values\n",
    "\n",
    "# Applying the function to the 'data' column with apply and zip\n",
    "df2['date'], df2['value'] = zip(*df2['data'].apply(extract_values))\n",
    "\n",
    "# Dropping the original 'data' column\n",
    "df2.drop(columns=['data'], inplace=True)\n",
    "\n",
    "# Printing the resulting DataFrame\n",
    "print(df2)\n"
   ]
  },
  {
   "cell_type": "code",
   "execution_count": 7,
   "id": "8bbded98",
   "metadata": {
    "colab": {
     "base_uri": "https://localhost:8080/",
     "height": 363
    },
    "executionInfo": {
     "elapsed": 30,
     "status": "ok",
     "timestamp": 1691987277645,
     "user": {
      "displayName": "Lavkush Chaudhary",
      "userId": "01013648497488669597"
     },
     "user_tz": -330
    },
    "id": "8bbded98",
    "outputId": "4003e1a8-2d04-4abb-98af-c7e56f2584ad",
    "scrolled": true
   },
   "outputs": [
    {
     "data": {
      "text/html": [
       "<div>\n",
       "<style scoped>\n",
       "    .dataframe tbody tr th:only-of-type {\n",
       "        vertical-align: middle;\n",
       "    }\n",
       "\n",
       "    .dataframe tbody tr th {\n",
       "        vertical-align: top;\n",
       "    }\n",
       "\n",
       "    .dataframe thead th {\n",
       "        text-align: right;\n",
       "    }\n",
       "</style>\n",
       "<table border=\"1\" class=\"dataframe\">\n",
       "  <thead>\n",
       "    <tr style=\"text-align: right;\">\n",
       "      <th></th>\n",
       "      <th>date</th>\n",
       "      <th>value</th>\n",
       "    </tr>\n",
       "  </thead>\n",
       "  <tbody>\n",
       "    <tr>\n",
       "      <th>3017</th>\n",
       "      <td>2012-01-12</td>\n",
       "      <td>112.97</td>\n",
       "    </tr>\n",
       "    <tr>\n",
       "      <th>4768</th>\n",
       "      <td>2005-04-27</td>\n",
       "      <td>51.29</td>\n",
       "    </tr>\n",
       "    <tr>\n",
       "      <th>3767</th>\n",
       "      <td>2009-02-26</td>\n",
       "      <td>45.15</td>\n",
       "    </tr>\n",
       "    <tr>\n",
       "      <th>5977</th>\n",
       "      <td>2000-09-07</td>\n",
       "      <td>37.43</td>\n",
       "    </tr>\n",
       "    <tr>\n",
       "      <th>1144</th>\n",
       "      <td>2019-03-19</td>\n",
       "      <td>67.13</td>\n",
       "    </tr>\n",
       "    <tr>\n",
       "      <th>7871</th>\n",
       "      <td>1993-06-04</td>\n",
       "      <td>18.25</td>\n",
       "    </tr>\n",
       "    <tr>\n",
       "      <th>4479</th>\n",
       "      <td>2006-06-06</td>\n",
       "      <td>68.25</td>\n",
       "    </tr>\n",
       "    <tr>\n",
       "      <th>7641</th>\n",
       "      <td>1994-04-22</td>\n",
       "      <td>16.28</td>\n",
       "    </tr>\n",
       "    <tr>\n",
       "      <th>6142</th>\n",
       "      <td>2000-01-20</td>\n",
       "      <td>26.26</td>\n",
       "    </tr>\n",
       "    <tr>\n",
       "      <th>3175</th>\n",
       "      <td>2011-06-06</td>\n",
       "      <td>115.40</td>\n",
       "    </tr>\n",
       "  </tbody>\n",
       "</table>\n",
       "</div>"
      ],
      "text/plain": [
       "            date   value\n",
       "3017  2012-01-12  112.97\n",
       "4768  2005-04-27   51.29\n",
       "3767  2009-02-26   45.15\n",
       "5977  2000-09-07   37.43\n",
       "1144  2019-03-19   67.13\n",
       "7871  1993-06-04   18.25\n",
       "4479  2006-06-06   68.25\n",
       "7641  1994-04-22   16.28\n",
       "6142  2000-01-20   26.26\n",
       "3175  2011-06-06  115.40"
      ]
     },
     "execution_count": 7,
     "metadata": {},
     "output_type": "execute_result"
    }
   ],
   "source": [
    "df2.sample(10)"
   ]
  },
  {
   "cell_type": "markdown",
   "id": "f068f44a",
   "metadata": {
    "id": "f068f44a"
   },
   "source": [
    "### Converting the date column into date-time format and using it as index."
   ]
  },
  {
   "cell_type": "code",
   "execution_count": 8,
   "id": "0415b4aa",
   "metadata": {
    "colab": {
     "base_uri": "https://localhost:8080/",
     "height": 297
    },
    "executionInfo": {
     "elapsed": 896,
     "status": "error",
     "timestamp": 1691987278522,
     "user": {
      "displayName": "Lavkush Chaudhary",
      "userId": "01013648497488669597"
     },
     "user_tz": -330
    },
    "id": "0415b4aa",
    "outputId": "0e0d1f91-eefe-413b-d494-44fa63fe5e3c",
    "scrolled": true
   },
   "outputs": [
    {
     "name": "stderr",
     "output_type": "stream",
     "text": [
      "C:\\Users\\Rohit Shelar\\AppData\\Local\\Temp\\ipykernel_21704\\3783625677.py:1: SettingWithCopyWarning: \n",
      "A value is trying to be set on a copy of a slice from a DataFrame.\n",
      "Try using .loc[row_indexer,col_indexer] = value instead\n",
      "\n",
      "See the caveats in the documentation: https://pandas.pydata.org/pandas-docs/stable/user_guide/indexing.html#returning-a-view-versus-a-copy\n",
      "  df2[\"date\"] = pd.to_datetime(df2.date)\n"
     ]
    }
   ],
   "source": [
    "df2[\"date\"] = pd.to_datetime(df2.date)\n"
   ]
  },
  {
   "cell_type": "code",
   "execution_count": 9,
   "id": "f74109ba",
   "metadata": {
    "executionInfo": {
     "elapsed": 67,
     "status": "aborted",
     "timestamp": 1691987278522,
     "user": {
      "displayName": "Lavkush Chaudhary",
      "userId": "01013648497488669597"
     },
     "user_tz": -330
    },
    "id": "f74109ba"
   },
   "outputs": [
    {
     "data": {
      "text/html": [
       "<div>\n",
       "<style scoped>\n",
       "    .dataframe tbody tr th:only-of-type {\n",
       "        vertical-align: middle;\n",
       "    }\n",
       "\n",
       "    .dataframe tbody tr th {\n",
       "        vertical-align: top;\n",
       "    }\n",
       "\n",
       "    .dataframe thead th {\n",
       "        text-align: right;\n",
       "    }\n",
       "</style>\n",
       "<table border=\"1\" class=\"dataframe\">\n",
       "  <thead>\n",
       "    <tr style=\"text-align: right;\">\n",
       "      <th></th>\n",
       "      <th>date</th>\n",
       "      <th>value</th>\n",
       "    </tr>\n",
       "  </thead>\n",
       "  <tbody>\n",
       "    <tr>\n",
       "      <th>0</th>\n",
       "      <td>2023-08-07</td>\n",
       "      <td>86.47</td>\n",
       "    </tr>\n",
       "    <tr>\n",
       "      <th>1</th>\n",
       "      <td>2023-08-04</td>\n",
       "      <td>87.38</td>\n",
       "    </tr>\n",
       "    <tr>\n",
       "      <th>2</th>\n",
       "      <td>2023-08-03</td>\n",
       "      <td>86.19</td>\n",
       "    </tr>\n",
       "    <tr>\n",
       "      <th>3</th>\n",
       "      <td>2023-08-02</td>\n",
       "      <td>84.01</td>\n",
       "    </tr>\n",
       "    <tr>\n",
       "      <th>4</th>\n",
       "      <td>2023-08-01</td>\n",
       "      <td>85.34</td>\n",
       "    </tr>\n",
       "  </tbody>\n",
       "</table>\n",
       "</div>"
      ],
      "text/plain": [
       "        date  value\n",
       "0 2023-08-07  86.47\n",
       "1 2023-08-04  87.38\n",
       "2 2023-08-03  86.19\n",
       "3 2023-08-02  84.01\n",
       "4 2023-08-01  85.34"
      ]
     },
     "execution_count": 9,
     "metadata": {},
     "output_type": "execute_result"
    }
   ],
   "source": [
    "df2.head()"
   ]
  },
  {
   "cell_type": "code",
   "execution_count": 10,
   "id": "5dff285c",
   "metadata": {
    "executionInfo": {
     "elapsed": 67,
     "status": "aborted",
     "timestamp": 1691987278523,
     "user": {
      "displayName": "Lavkush Chaudhary",
      "userId": "01013648497488669597"
     },
     "user_tz": -330
    },
    "id": "5dff285c"
   },
   "outputs": [
    {
     "name": "stdout",
     "output_type": "stream",
     "text": [
      "<class 'pandas.core.frame.DataFrame'>\n",
      "RangeIndex: 9449 entries, 0 to 9448\n",
      "Data columns (total 2 columns):\n",
      " #   Column  Non-Null Count  Dtype         \n",
      "---  ------  --------------  -----         \n",
      " 0   date    9449 non-null   datetime64[ns]\n",
      " 1   value   9191 non-null   float64       \n",
      "dtypes: datetime64[ns](1), float64(1)\n",
      "memory usage: 147.8 KB\n"
     ]
    }
   ],
   "source": [
    "df2.info()"
   ]
  },
  {
   "cell_type": "code",
   "execution_count": 11,
   "id": "57f658c2",
   "metadata": {
    "executionInfo": {
     "elapsed": 66,
     "status": "aborted",
     "timestamp": 1691987278523,
     "user": {
      "displayName": "Lavkush Chaudhary",
      "userId": "01013648497488669597"
     },
     "user_tz": -330
    },
    "id": "57f658c2"
   },
   "outputs": [
    {
     "data": {
      "text/plain": [
       "(9449, 2)"
      ]
     },
     "execution_count": 11,
     "metadata": {},
     "output_type": "execute_result"
    }
   ],
   "source": [
    "df2.shape"
   ]
  },
  {
   "cell_type": "markdown",
   "id": "908a0a68",
   "metadata": {
    "id": "908a0a68"
   },
   "source": [
    "### Checking the Null values. There are 258 NA values.Which is 2.73% of data"
   ]
  },
  {
   "cell_type": "code",
   "execution_count": 12,
   "id": "bcb2f5dd",
   "metadata": {
    "executionInfo": {
     "elapsed": 67,
     "status": "aborted",
     "timestamp": 1691987278524,
     "user": {
      "displayName": "Lavkush Chaudhary",
      "userId": "01013648497488669597"
     },
     "user_tz": -330
    },
    "id": "bcb2f5dd"
   },
   "outputs": [
    {
     "data": {
      "text/plain": [
       "date     0.00000\n",
       "value    2.73334\n",
       "dtype: float64"
      ]
     },
     "execution_count": 12,
     "metadata": {},
     "output_type": "execute_result"
    }
   ],
   "source": [
    "df2.isna().sum()/9439*100"
   ]
  },
  {
   "cell_type": "markdown",
   "id": "a1ffaf41",
   "metadata": {
    "id": "a1ffaf41"
   },
   "source": [
    "### Filling the NA values"
   ]
  },
  {
   "cell_type": "code",
   "execution_count": 13,
   "id": "86637073",
   "metadata": {
    "executionInfo": {
     "elapsed": 63,
     "status": "aborted",
     "timestamp": 1691987278524,
     "user": {
      "displayName": "Lavkush Chaudhary",
      "userId": "01013648497488669597"
     },
     "user_tz": -330
    },
    "id": "86637073"
   },
   "outputs": [
    {
     "name": "stderr",
     "output_type": "stream",
     "text": [
      "C:\\Users\\Rohit Shelar\\AppData\\Local\\Temp\\ipykernel_21704\\3752313881.py:1: SettingWithCopyWarning: \n",
      "A value is trying to be set on a copy of a slice from a DataFrame.\n",
      "Try using .loc[row_indexer,col_indexer] = value instead\n",
      "\n",
      "See the caveats in the documentation: https://pandas.pydata.org/pandas-docs/stable/user_guide/indexing.html#returning-a-view-versus-a-copy\n",
      "  df2['value']=df2['value'].fillna(method ='bfill')\n"
     ]
    }
   ],
   "source": [
    "df2['value']=df2['value'].fillna(method ='bfill')"
   ]
  },
  {
   "cell_type": "code",
   "execution_count": 14,
   "id": "cf34d50d",
   "metadata": {
    "executionInfo": {
     "elapsed": 62,
     "status": "aborted",
     "timestamp": 1691987278524,
     "user": {
      "displayName": "Lavkush Chaudhary",
      "userId": "01013648497488669597"
     },
     "user_tz": -330
    },
    "id": "cf34d50d"
   },
   "outputs": [
    {
     "name": "stdout",
     "output_type": "stream",
     "text": [
      "date     0\n",
      "value    0\n",
      "dtype: int64\n",
      "(9449, 2)\n"
     ]
    }
   ],
   "source": [
    "print(df2.isna().sum())\n",
    "print(df2.shape)"
   ]
  },
  {
   "cell_type": "markdown",
   "id": "35656e29",
   "metadata": {
    "id": "35656e29"
   },
   "source": [
    "### Checking for duplicated values."
   ]
  },
  {
   "cell_type": "code",
   "execution_count": 15,
   "id": "5f92c9f0",
   "metadata": {
    "executionInfo": {
     "elapsed": 62,
     "status": "aborted",
     "timestamp": 1691987278525,
     "user": {
      "displayName": "Lavkush Chaudhary",
      "userId": "01013648497488669597"
     },
     "user_tz": -330
    },
    "id": "5f92c9f0"
   },
   "outputs": [
    {
     "data": {
      "text/plain": [
       "0"
      ]
     },
     "execution_count": 15,
     "metadata": {},
     "output_type": "execute_result"
    }
   ],
   "source": [
    "df2.duplicated().sum()"
   ]
  },
  {
   "cell_type": "code",
   "execution_count": 16,
   "id": "74edc9aa",
   "metadata": {
    "executionInfo": {
     "elapsed": 62,
     "status": "aborted",
     "timestamp": 1691987278525,
     "user": {
      "displayName": "Lavkush Chaudhary",
      "userId": "01013648497488669597"
     },
     "user_tz": -330
    },
    "id": "74edc9aa",
    "scrolled": true
   },
   "outputs": [
    {
     "data": {
      "text/html": [
       "<div>\n",
       "<style scoped>\n",
       "    .dataframe tbody tr th:only-of-type {\n",
       "        vertical-align: middle;\n",
       "    }\n",
       "\n",
       "    .dataframe tbody tr th {\n",
       "        vertical-align: top;\n",
       "    }\n",
       "\n",
       "    .dataframe thead th {\n",
       "        text-align: right;\n",
       "    }\n",
       "</style>\n",
       "<table border=\"1\" class=\"dataframe\">\n",
       "  <thead>\n",
       "    <tr style=\"text-align: right;\">\n",
       "      <th></th>\n",
       "      <th>date</th>\n",
       "      <th>value</th>\n",
       "    </tr>\n",
       "  </thead>\n",
       "  <tbody>\n",
       "    <tr>\n",
       "      <th>count</th>\n",
       "      <td>9449</td>\n",
       "      <td>9449.000000</td>\n",
       "    </tr>\n",
       "    <tr>\n",
       "      <th>mean</th>\n",
       "      <td>2005-06-27 14:23:56.342470144</td>\n",
       "      <td>49.155899</td>\n",
       "    </tr>\n",
       "    <tr>\n",
       "      <th>min</th>\n",
       "      <td>1987-05-20 00:00:00</td>\n",
       "      <td>9.100000</td>\n",
       "    </tr>\n",
       "    <tr>\n",
       "      <th>25%</th>\n",
       "      <td>1996-06-07 00:00:00</td>\n",
       "      <td>19.150000</td>\n",
       "    </tr>\n",
       "    <tr>\n",
       "      <th>50%</th>\n",
       "      <td>2005-06-28 00:00:00</td>\n",
       "      <td>40.800000</td>\n",
       "    </tr>\n",
       "    <tr>\n",
       "      <th>75%</th>\n",
       "      <td>2014-07-17 00:00:00</td>\n",
       "      <td>72.050000</td>\n",
       "    </tr>\n",
       "    <tr>\n",
       "      <th>max</th>\n",
       "      <td>2023-08-07 00:00:00</td>\n",
       "      <td>143.950000</td>\n",
       "    </tr>\n",
       "    <tr>\n",
       "      <th>std</th>\n",
       "      <td>NaN</td>\n",
       "      <td>32.956536</td>\n",
       "    </tr>\n",
       "  </tbody>\n",
       "</table>\n",
       "</div>"
      ],
      "text/plain": [
       "                                date        value\n",
       "count                           9449  9449.000000\n",
       "mean   2005-06-27 14:23:56.342470144    49.155899\n",
       "min              1987-05-20 00:00:00     9.100000\n",
       "25%              1996-06-07 00:00:00    19.150000\n",
       "50%              2005-06-28 00:00:00    40.800000\n",
       "75%              2014-07-17 00:00:00    72.050000\n",
       "max              2023-08-07 00:00:00   143.950000\n",
       "std                              NaN    32.956536"
      ]
     },
     "execution_count": 16,
     "metadata": {},
     "output_type": "execute_result"
    }
   ],
   "source": [
    "df2.describe()"
   ]
  },
  {
   "cell_type": "code",
   "execution_count": 17,
   "id": "3027c889",
   "metadata": {
    "executionInfo": {
     "elapsed": 61,
     "status": "aborted",
     "timestamp": 1691987278525,
     "user": {
      "displayName": "Lavkush Chaudhary",
      "userId": "01013648497488669597"
     },
     "user_tz": -330
    },
    "id": "3027c889"
   },
   "outputs": [],
   "source": [
    "df2 = df2.set_index('date')"
   ]
  },
  {
   "cell_type": "markdown",
   "id": "940491a8",
   "metadata": {
    "id": "940491a8"
   },
   "source": [
    "- #### The average price of the crude oil in it's entire history is 49 dollar\n",
    "- #### The range is 9 dollar to 143.95 dollar with the standard deviation of 32.84 dollar."
   ]
  },
  {
   "cell_type": "code",
   "execution_count": 18,
   "id": "6c4edfce",
   "metadata": {
    "executionInfo": {
     "elapsed": 61,
     "status": "aborted",
     "timestamp": 1691987278526,
     "user": {
      "displayName": "Lavkush Chaudhary",
      "userId": "01013648497488669597"
     },
     "user_tz": -330
    },
    "id": "6c4edfce"
   },
   "outputs": [
    {
     "data": {
      "image/png": "[encoded data removed]",
      "text/plain": [
       "<Figure size 864x432 with 1 Axes>"
      ]
     },
     "metadata": {
      "needs_background": "light"
     },
     "output_type": "display_data"
    }
   ],
   "source": [
    "plt.figure(figsize=(12, 6))\n",
    "plt.plot(df2.index, df2['value'])\n",
    "plt.xlabel('Date')\n",
    "plt.ylabel('Price')\n",
    "plt.xticks(rotation=45)\n",
    "plt.grid(True)"
   ]
  },
  {
   "cell_type": "markdown",
   "id": "36805b7b",
   "metadata": {
    "id": "36805b7b"
   },
   "source": [
    "### There are some sharp drops - \n",
    "1. In 2008 Because of recession \n",
    "2. In 2016 because of some investors funding issue\n",
    "3. In 2020 because of Covid-19."
   ]
  },
  {
   "cell_type": "markdown",
   "id": "c1963a4d",
   "metadata": {
    "id": "c1963a4d"
   },
   "source": [
    "### Creating and plotting the 200 day's Moving Average to know the trend of data"
   ]
  },
  {
   "cell_type": "code",
   "execution_count": 19,
   "id": "bacdcf0f",
   "metadata": {
    "executionInfo": {
     "elapsed": 60,
     "status": "aborted",
     "timestamp": 1691987278526,
     "user": {
      "displayName": "Lavkush Chaudhary",
      "userId": "01013648497488669597"
     },
     "user_tz": -330
    },
    "id": "bacdcf0f",
    "scrolled": true
   },
   "outputs": [
    {
     "data": {
      "text/plain": [
       "date\n",
       "2023-08-07         NaN\n",
       "2023-08-04         NaN\n",
       "2023-08-03         NaN\n",
       "2023-08-02         NaN\n",
       "2023-08-01         NaN\n",
       "                ...   \n",
       "1987-05-26    18.04770\n",
       "1987-05-25    18.06705\n",
       "1987-05-22    18.08655\n",
       "1987-05-21    18.10455\n",
       "1987-05-20    18.12095\n",
       "Name: value, Length: 9449, dtype: float64"
      ]
     },
     "execution_count": 19,
     "metadata": {},
     "output_type": "execute_result"
    }
   ],
   "source": [
    "ma200 = df2.value.rolling(200).mean()\n",
    "ma200"
   ]
  },
  {
   "cell_type": "code",
   "execution_count": 20,
   "id": "00d2bef8",
   "metadata": {
    "executionInfo": {
     "elapsed": 59,
     "status": "aborted",
     "timestamp": 1691987278526,
     "user": {
      "displayName": "Lavkush Chaudhary",
      "userId": "01013648497488669597"
     },
     "user_tz": -330
    },
    "id": "00d2bef8",
    "scrolled": false
   },
   "outputs": [
    {
     "data": {
      "image/png": "[encoded data removed]",
      "text/plain": [
       "<Figure size 864x432 with 1 Axes>"
      ]
     },
     "metadata": {
      "needs_background": "light"
     },
     "output_type": "display_data"
    }
   ],
   "source": [
    "plt.figure(figsize=(12,6))\n",
    "plt.plot(df2.value)\n",
    "plt.plot(ma200,'r')\n",
    "plt.grid(True)"
   ]
  },
  {
   "cell_type": "markdown",
   "id": "71db4e1c",
   "metadata": {
    "id": "71db4e1c"
   },
   "source": [
    "### In its earlier stage it follows the up-trend but after 2008 it becomes volatile."
   ]
  },
  {
   "cell_type": "code",
   "execution_count": 21,
   "id": "75804460",
   "metadata": {
    "executionInfo": {
     "elapsed": 60,
     "status": "aborted",
     "timestamp": 1691987278527,
     "user": {
      "displayName": "Lavkush Chaudhary",
      "userId": "01013648497488669597"
     },
     "user_tz": -330
    },
    "id": "75804460",
    "scrolled": false
   },
   "outputs": [
    {
     "data": {
      "image/png": "[encoded data removed]",
      "text/plain": [
       "<Figure size 720x432 with 1 Axes>"
      ]
     },
     "metadata": {
      "needs_background": "light"
     },
     "output_type": "display_data"
    }
   ],
   "source": [
    "plt.figure(figsize=(10, 6))\n",
    "sns.histplot(df2['value'], bins=30, kde=True)\n",
    "plt.xlabel('Crude Oil Price')\n",
    "plt.ylabel('Frequency')\n",
    "plt.title('Distribution of Crude Oil Price')\n",
    "plt.show()"
   ]
  },
  {
   "cell_type": "code",
   "execution_count": 22,
   "id": "cb357faf",
   "metadata": {
    "executionInfo": {
     "elapsed": 59,
     "status": "aborted",
     "timestamp": 1691987278527,
     "user": {
      "displayName": "Lavkush Chaudhary",
      "userId": "01013648497488669597"
     },
     "user_tz": -330
    },
    "id": "cb357faf",
    "scrolled": true
   },
   "outputs": [
    {
     "data": {
      "text/plain": [
       "<Axes: >"
      ]
     },
     "execution_count": 22,
     "metadata": {},
     "output_type": "execute_result"
    },
    {
     "data": {
      "image/png": "[encoded data removed]",
      "text/plain": [
       "<Figure size 432x288 with 1 Axes>"
      ]
     },
     "metadata": {
      "needs_background": "light"
     },
     "output_type": "display_data"
    }
   ],
   "source": [
    "sns.boxplot(df2['value'])"
   ]
  },
  {
   "cell_type": "code",
   "execution_count": 23,
   "id": "fd01e8d4",
   "metadata": {
    "executionInfo": {
     "elapsed": 58,
     "status": "aborted",
     "timestamp": 1691987278527,
     "user": {
      "displayName": "Lavkush Chaudhary",
      "userId": "01013648497488669597"
     },
     "user_tz": -330
    },
    "id": "fd01e8d4"
   },
   "outputs": [],
   "source": [
    "df2['Year'] = pd.DatetimeIndex(df2.index).year\n",
    "df2['Month'] = pd.DatetimeIndex(df2.index).month"
   ]
  },
  {
   "cell_type": "code",
   "execution_count": 24,
   "id": "d26ec8b5",
   "metadata": {
    "executionInfo": {
     "elapsed": 59,
     "status": "aborted",
     "timestamp": 1691987278528,
     "user": {
      "displayName": "Lavkush Chaudhary",
      "userId": "01013648497488669597"
     },
     "user_tz": -330
    },
    "id": "d26ec8b5",
    "scrolled": true
   },
   "outputs": [
    {
     "data": {
      "text/html": [
       "<div>\n",
       "<style scoped>\n",
       "    .dataframe tbody tr th:only-of-type {\n",
       "        vertical-align: middle;\n",
       "    }\n",
       "\n",
       "    .dataframe tbody tr th {\n",
       "        vertical-align: top;\n",
       "    }\n",
       "\n",
       "    .dataframe thead th {\n",
       "        text-align: right;\n",
       "    }\n",
       "</style>\n",
       "<table border=\"1\" class=\"dataframe\">\n",
       "  <thead>\n",
       "    <tr style=\"text-align: right;\">\n",
       "      <th></th>\n",
       "      <th>value</th>\n",
       "      <th>Year</th>\n",
       "      <th>Month</th>\n",
       "    </tr>\n",
       "    <tr>\n",
       "      <th>date</th>\n",
       "      <th></th>\n",
       "      <th></th>\n",
       "      <th></th>\n",
       "    </tr>\n",
       "  </thead>\n",
       "  <tbody>\n",
       "    <tr>\n",
       "      <th>2023-08-07</th>\n",
       "      <td>86.47</td>\n",
       "      <td>2023</td>\n",
       "      <td>8</td>\n",
       "    </tr>\n",
       "    <tr>\n",
       "      <th>2023-08-04</th>\n",
       "      <td>87.38</td>\n",
       "      <td>2023</td>\n",
       "      <td>8</td>\n",
       "    </tr>\n",
       "    <tr>\n",
       "      <th>2023-08-03</th>\n",
       "      <td>86.19</td>\n",
       "      <td>2023</td>\n",
       "      <td>8</td>\n",
       "    </tr>\n",
       "    <tr>\n",
       "      <th>2023-08-02</th>\n",
       "      <td>84.01</td>\n",
       "      <td>2023</td>\n",
       "      <td>8</td>\n",
       "    </tr>\n",
       "    <tr>\n",
       "      <th>2023-08-01</th>\n",
       "      <td>85.34</td>\n",
       "      <td>2023</td>\n",
       "      <td>8</td>\n",
       "    </tr>\n",
       "  </tbody>\n",
       "</table>\n",
       "</div>"
      ],
      "text/plain": [
       "            value  Year  Month\n",
       "date                          \n",
       "2023-08-07  86.47  2023      8\n",
       "2023-08-04  87.38  2023      8\n",
       "2023-08-03  86.19  2023      8\n",
       "2023-08-02  84.01  2023      8\n",
       "2023-08-01  85.34  2023      8"
      ]
     },
     "execution_count": 24,
     "metadata": {},
     "output_type": "execute_result"
    }
   ],
   "source": [
    "df2.head()"
   ]
  },
  {
   "cell_type": "code",
   "execution_count": 25,
   "id": "05522df2",
   "metadata": {
    "executionInfo": {
     "elapsed": 58,
     "status": "aborted",
     "timestamp": 1691987278528,
     "user": {
      "displayName": "Lavkush Chaudhary",
      "userId": "01013648497488669597"
     },
     "user_tz": -330
    },
    "id": "05522df2",
    "scrolled": true
   },
   "outputs": [
    {
     "data": {
      "image/png": "[encoded data removed]",
      "text/plain": [
       "<Figure size 1008x576 with 1 Axes>"
      ]
     },
     "metadata": {
      "needs_background": "light"
     },
     "output_type": "display_data"
    }
   ],
   "source": [
    "plt.figure(figsize=(14, 8))\n",
    "plt.subplot(211)\n",
    "sns.boxplot(x=df2.index.year, y=df2['value'], data=df2)\n",
    "plt.xticks(rotation=90)\n",
    "plt.show()"
   ]
  },
  {
   "cell_type": "code",
   "execution_count": 26,
   "id": "876b7ef1",
   "metadata": {
    "executionInfo": {
     "elapsed": 58,
     "status": "aborted",
     "timestamp": 1691987278528,
     "user": {
      "displayName": "Lavkush Chaudhary",
      "userId": "01013648497488669597"
     },
     "user_tz": -330
    },
    "id": "876b7ef1",
    "scrolled": false
   },
   "outputs": [],
   "source": [
    "Q1 = df2['value'].quantile(0.20)\n",
    "Q3 = df2['value'].quantile(0.80)\n",
    "IQR = Q3 - Q1\n",
    "whisker_width = 1.5\n",
    "lower_whisker = Q1 -(whisker_width*IQR)\n",
    "upper_whisker = Q3 + (whisker_width*IQR)\n",
    "df2['value']=np.where(df2['value']>upper_whisker,upper_whisker,np.where(df2['value']<lower_whisker,lower_whisker,df2['value']))"
   ]
  },
  {
   "cell_type": "markdown",
   "id": "e3005084",
   "metadata": {
    "id": "e3005084"
   },
   "source": [
    "### ACF/Autocorrelation plot"
   ]
  },
  {
   "cell_type": "code",
   "execution_count": 27,
   "id": "5ebc065e",
   "metadata": {
    "executionInfo": {
     "elapsed": 57,
     "status": "aborted",
     "timestamp": 1691987278528,
     "user": {
      "displayName": "Lavkush Chaudhary",
      "userId": "01013648497488669597"
     },
     "user_tz": -330
    },
    "id": "5ebc065e"
   },
   "outputs": [
    {
     "data": {
      "image/png": "[encoded data removed]",
      "text/plain": [
       "<Figure size 432x288 with 1 Axes>"
      ]
     },
     "metadata": {
      "needs_background": "light"
     },
     "output_type": "display_data"
    }
   ],
   "source": [
    "# Autocorrelation Funcation(ACF)\n",
    "plot_acf(df2.value,lags = 30)\n",
    "plt.show()"
   ]
  },
  {
   "cell_type": "markdown",
   "id": "9df0432d",
   "metadata": {
    "id": "9df0432d"
   },
   "source": [
    "### Lag Plot"
   ]
  },
  {
   "cell_type": "code",
   "execution_count": 28,
   "id": "ac07649d",
   "metadata": {
    "executionInfo": {
     "elapsed": 57,
     "status": "aborted",
     "timestamp": 1691987278529,
     "user": {
      "displayName": "Lavkush Chaudhary",
      "userId": "01013648497488669597"
     },
     "user_tz": -330
    },
    "id": "ac07649d",
    "scrolled": false
   },
   "outputs": [
    {
     "data": {
      "text/plain": [
       "<Axes: xlabel='y(t)', ylabel='y(t + 1)'>"
      ]
     },
     "execution_count": 28,
     "metadata": {},
     "output_type": "execute_result"
    },
    {
     "data": {
      "image/png": "[encoded data removed]",
      "text/plain": [
       "<Figure size 432x288 with 1 Axes>"
      ]
     },
     "metadata": {
      "needs_background": "light"
     },
     "output_type": "display_data"
    }
   ],
   "source": [
    "lag_plot(df2)"
   ]
  },
  {
   "cell_type": "code",
   "execution_count": 29,
   "id": "98d4b835",
   "metadata": {
    "executionInfo": {
     "elapsed": 57,
     "status": "aborted",
     "timestamp": 1691987278529,
     "user": {
      "displayName": "Lavkush Chaudhary",
      "userId": "01013648497488669597"
     },
     "user_tz": -330
    },
    "id": "98d4b835"
   },
   "outputs": [],
   "source": [
    "df2['log_Price']=np.log(df2['value'])"
   ]
  },
  {
   "cell_type": "code",
   "execution_count": 30,
   "id": "31b6b0c2",
   "metadata": {
    "executionInfo": {
     "elapsed": 57,
     "status": "aborted",
     "timestamp": 1691987278529,
     "user": {
      "displayName": "Lavkush Chaudhary",
      "userId": "01013648497488669597"
     },
     "user_tz": -330
    },
    "id": "31b6b0c2",
    "scrolled": true
   },
   "outputs": [
    {
     "data": {
      "text/html": [
       "<div>\n",
       "<style scoped>\n",
       "    .dataframe tbody tr th:only-of-type {\n",
       "        vertical-align: middle;\n",
       "    }\n",
       "\n",
       "    .dataframe tbody tr th {\n",
       "        vertical-align: top;\n",
       "    }\n",
       "\n",
       "    .dataframe thead th {\n",
       "        text-align: right;\n",
       "    }\n",
       "</style>\n",
       "<table border=\"1\" class=\"dataframe\">\n",
       "  <thead>\n",
       "    <tr style=\"text-align: right;\">\n",
       "      <th></th>\n",
       "      <th>value</th>\n",
       "      <th>Year</th>\n",
       "      <th>Month</th>\n",
       "      <th>log_Price</th>\n",
       "    </tr>\n",
       "    <tr>\n",
       "      <th>date</th>\n",
       "      <th></th>\n",
       "      <th></th>\n",
       "      <th></th>\n",
       "      <th></th>\n",
       "    </tr>\n",
       "  </thead>\n",
       "  <tbody>\n",
       "    <tr>\n",
       "      <th>2023-08-07</th>\n",
       "      <td>86.47</td>\n",
       "      <td>2023</td>\n",
       "      <td>8</td>\n",
       "      <td>4.459798</td>\n",
       "    </tr>\n",
       "    <tr>\n",
       "      <th>2023-08-04</th>\n",
       "      <td>87.38</td>\n",
       "      <td>2023</td>\n",
       "      <td>8</td>\n",
       "      <td>4.470266</td>\n",
       "    </tr>\n",
       "    <tr>\n",
       "      <th>2023-08-03</th>\n",
       "      <td>86.19</td>\n",
       "      <td>2023</td>\n",
       "      <td>8</td>\n",
       "      <td>4.456554</td>\n",
       "    </tr>\n",
       "    <tr>\n",
       "      <th>2023-08-02</th>\n",
       "      <td>84.01</td>\n",
       "      <td>2023</td>\n",
       "      <td>8</td>\n",
       "      <td>4.430936</td>\n",
       "    </tr>\n",
       "    <tr>\n",
       "      <th>2023-08-01</th>\n",
       "      <td>85.34</td>\n",
       "      <td>2023</td>\n",
       "      <td>8</td>\n",
       "      <td>4.446643</td>\n",
       "    </tr>\n",
       "    <tr>\n",
       "      <th>...</th>\n",
       "      <td>...</td>\n",
       "      <td>...</td>\n",
       "      <td>...</td>\n",
       "      <td>...</td>\n",
       "    </tr>\n",
       "    <tr>\n",
       "      <th>1987-05-26</th>\n",
       "      <td>18.63</td>\n",
       "      <td>1987</td>\n",
       "      <td>5</td>\n",
       "      <td>2.924773</td>\n",
       "    </tr>\n",
       "    <tr>\n",
       "      <th>1987-05-25</th>\n",
       "      <td>18.60</td>\n",
       "      <td>1987</td>\n",
       "      <td>5</td>\n",
       "      <td>2.923162</td>\n",
       "    </tr>\n",
       "    <tr>\n",
       "      <th>1987-05-22</th>\n",
       "      <td>18.55</td>\n",
       "      <td>1987</td>\n",
       "      <td>5</td>\n",
       "      <td>2.920470</td>\n",
       "    </tr>\n",
       "    <tr>\n",
       "      <th>1987-05-21</th>\n",
       "      <td>18.45</td>\n",
       "      <td>1987</td>\n",
       "      <td>5</td>\n",
       "      <td>2.915064</td>\n",
       "    </tr>\n",
       "    <tr>\n",
       "      <th>1987-05-20</th>\n",
       "      <td>18.63</td>\n",
       "      <td>1987</td>\n",
       "      <td>5</td>\n",
       "      <td>2.924773</td>\n",
       "    </tr>\n",
       "  </tbody>\n",
       "</table>\n",
       "<p>9449 rows × 4 columns</p>\n",
       "</div>"
      ],
      "text/plain": [
       "            value  Year  Month  log_Price\n",
       "date                                     \n",
       "2023-08-07  86.47  2023      8   4.459798\n",
       "2023-08-04  87.38  2023      8   4.470266\n",
       "2023-08-03  86.19  2023      8   4.456554\n",
       "2023-08-02  84.01  2023      8   4.430936\n",
       "2023-08-01  85.34  2023      8   4.446643\n",
       "...           ...   ...    ...        ...\n",
       "1987-05-26  18.63  1987      5   2.924773\n",
       "1987-05-25  18.60  1987      5   2.923162\n",
       "1987-05-22  18.55  1987      5   2.920470\n",
       "1987-05-21  18.45  1987      5   2.915064\n",
       "1987-05-20  18.63  1987      5   2.924773\n",
       "\n",
       "[9449 rows x 4 columns]"
      ]
     },
     "execution_count": 30,
     "metadata": {},
     "output_type": "execute_result"
    }
   ],
   "source": [
    "df2"
   ]
  },
  {
   "cell_type": "code",
   "execution_count": 31,
   "id": "704f909e",
   "metadata": {
    "executionInfo": {
     "elapsed": 57,
     "status": "aborted",
     "timestamp": 1691987278530,
     "user": {
      "displayName": "Lavkush Chaudhary",
      "userId": "01013648497488669597"
     },
     "user_tz": -330
    },
    "id": "704f909e",
    "scrolled": true
   },
   "outputs": [],
   "source": [
    "t = np.arange(1,9450)\n",
    "df2['t']=t"
   ]
  },
  {
   "cell_type": "code",
   "execution_count": 32,
   "id": "352f45dd",
   "metadata": {
    "executionInfo": {
     "elapsed": 57,
     "status": "aborted",
     "timestamp": 1691987278530,
     "user": {
      "displayName": "Lavkush Chaudhary",
      "userId": "01013648497488669597"
     },
     "user_tz": -330
    },
    "id": "352f45dd"
   },
   "outputs": [],
   "source": [
    "t_squared=np.array(t*t)\n",
    "df2['t_squared']=t_squared"
   ]
  },
  {
   "cell_type": "code",
   "execution_count": 33,
   "id": "28cc76db",
   "metadata": {
    "executionInfo": {
     "elapsed": 58,
     "status": "aborted",
     "timestamp": 1691987278531,
     "user": {
      "displayName": "Lavkush Chaudhary",
      "userId": "01013648497488669597"
     },
     "user_tz": -330
    },
    "id": "28cc76db",
    "scrolled": false
   },
   "outputs": [
    {
     "data": {
      "text/html": [
       "<div>\n",
       "<style scoped>\n",
       "    .dataframe tbody tr th:only-of-type {\n",
       "        vertical-align: middle;\n",
       "    }\n",
       "\n",
       "    .dataframe tbody tr th {\n",
       "        vertical-align: top;\n",
       "    }\n",
       "\n",
       "    .dataframe thead th {\n",
       "        text-align: right;\n",
       "    }\n",
       "</style>\n",
       "<table border=\"1\" class=\"dataframe\">\n",
       "  <thead>\n",
       "    <tr style=\"text-align: right;\">\n",
       "      <th></th>\n",
       "      <th>value</th>\n",
       "      <th>Year</th>\n",
       "      <th>Month</th>\n",
       "      <th>log_Price</th>\n",
       "      <th>t</th>\n",
       "      <th>t_squared</th>\n",
       "    </tr>\n",
       "    <tr>\n",
       "      <th>date</th>\n",
       "      <th></th>\n",
       "      <th></th>\n",
       "      <th></th>\n",
       "      <th></th>\n",
       "      <th></th>\n",
       "      <th></th>\n",
       "    </tr>\n",
       "  </thead>\n",
       "  <tbody>\n",
       "    <tr>\n",
       "      <th>2023-08-07</th>\n",
       "      <td>86.47</td>\n",
       "      <td>2023</td>\n",
       "      <td>8</td>\n",
       "      <td>4.459798</td>\n",
       "      <td>1</td>\n",
       "      <td>1</td>\n",
       "    </tr>\n",
       "    <tr>\n",
       "      <th>2023-08-04</th>\n",
       "      <td>87.38</td>\n",
       "      <td>2023</td>\n",
       "      <td>8</td>\n",
       "      <td>4.470266</td>\n",
       "      <td>2</td>\n",
       "      <td>4</td>\n",
       "    </tr>\n",
       "    <tr>\n",
       "      <th>2023-08-03</th>\n",
       "      <td>86.19</td>\n",
       "      <td>2023</td>\n",
       "      <td>8</td>\n",
       "      <td>4.456554</td>\n",
       "      <td>3</td>\n",
       "      <td>9</td>\n",
       "    </tr>\n",
       "    <tr>\n",
       "      <th>2023-08-02</th>\n",
       "      <td>84.01</td>\n",
       "      <td>2023</td>\n",
       "      <td>8</td>\n",
       "      <td>4.430936</td>\n",
       "      <td>4</td>\n",
       "      <td>16</td>\n",
       "    </tr>\n",
       "    <tr>\n",
       "      <th>2023-08-01</th>\n",
       "      <td>85.34</td>\n",
       "      <td>2023</td>\n",
       "      <td>8</td>\n",
       "      <td>4.446643</td>\n",
       "      <td>5</td>\n",
       "      <td>25</td>\n",
       "    </tr>\n",
       "  </tbody>\n",
       "</table>\n",
       "</div>"
      ],
      "text/plain": [
       "            value  Year  Month  log_Price  t  t_squared\n",
       "date                                                   \n",
       "2023-08-07  86.47  2023      8   4.459798  1          1\n",
       "2023-08-04  87.38  2023      8   4.470266  2          4\n",
       "2023-08-03  86.19  2023      8   4.456554  3          9\n",
       "2023-08-02  84.01  2023      8   4.430936  4         16\n",
       "2023-08-01  85.34  2023      8   4.446643  5         25"
      ]
     },
     "execution_count": 33,
     "metadata": {},
     "output_type": "execute_result"
    }
   ],
   "source": [
    "df2.head()"
   ]
  },
  {
   "cell_type": "code",
   "execution_count": 34,
   "id": "65d2c4c3",
   "metadata": {
    "executionInfo": {
     "elapsed": 57,
     "status": "aborted",
     "timestamp": 1691987278531,
     "user": {
      "displayName": "Lavkush Chaudhary",
      "userId": "01013648497488669597"
     },
     "user_tz": -330
    },
    "id": "65d2c4c3"
   },
   "outputs": [],
   "source": [
    "df2.sort_index(ascending=True, inplace=True)"
   ]
  },
  {
   "cell_type": "code",
   "execution_count": 35,
   "id": "a688f13b",
   "metadata": {
    "executionInfo": {
     "elapsed": 58,
     "status": "aborted",
     "timestamp": 1691987278532,
     "user": {
      "displayName": "Lavkush Chaudhary",
      "userId": "01013648497488669597"
     },
     "user_tz": -330
    },
    "id": "a688f13b"
   },
   "outputs": [],
   "source": [
    "#Train Test Split in the ratio of 80:20\n",
    "train=df2.head(7560)\n",
    "test=df2.tail(1889)"
   ]
  },
  {
   "cell_type": "code",
   "execution_count": 36,
   "id": "5cbf6aa0",
   "metadata": {
    "executionInfo": {
     "elapsed": 58,
     "status": "aborted",
     "timestamp": 1691987278532,
     "user": {
      "displayName": "Lavkush Chaudhary",
      "userId": "01013648497488669597"
     },
     "user_tz": -330
    },
    "id": "5cbf6aa0",
    "scrolled": true
   },
   "outputs": [
    {
     "data": {
      "text/html": [
       "<div>\n",
       "<style scoped>\n",
       "    .dataframe tbody tr th:only-of-type {\n",
       "        vertical-align: middle;\n",
       "    }\n",
       "\n",
       "    .dataframe tbody tr th {\n",
       "        vertical-align: top;\n",
       "    }\n",
       "\n",
       "    .dataframe thead th {\n",
       "        text-align: right;\n",
       "    }\n",
       "</style>\n",
       "<table border=\"1\" class=\"dataframe\">\n",
       "  <thead>\n",
       "    <tr style=\"text-align: right;\">\n",
       "      <th></th>\n",
       "      <th>value</th>\n",
       "      <th>Year</th>\n",
       "      <th>Month</th>\n",
       "      <th>log_Price</th>\n",
       "      <th>t</th>\n",
       "      <th>t_squared</th>\n",
       "    </tr>\n",
       "    <tr>\n",
       "      <th>date</th>\n",
       "      <th></th>\n",
       "      <th></th>\n",
       "      <th></th>\n",
       "      <th></th>\n",
       "      <th></th>\n",
       "      <th></th>\n",
       "    </tr>\n",
       "  </thead>\n",
       "  <tbody>\n",
       "    <tr>\n",
       "      <th>1987-05-20</th>\n",
       "      <td>18.63</td>\n",
       "      <td>1987</td>\n",
       "      <td>5</td>\n",
       "      <td>2.924773</td>\n",
       "      <td>9449</td>\n",
       "      <td>89283601</td>\n",
       "    </tr>\n",
       "    <tr>\n",
       "      <th>1987-05-21</th>\n",
       "      <td>18.45</td>\n",
       "      <td>1987</td>\n",
       "      <td>5</td>\n",
       "      <td>2.915064</td>\n",
       "      <td>9448</td>\n",
       "      <td>89264704</td>\n",
       "    </tr>\n",
       "    <tr>\n",
       "      <th>1987-05-22</th>\n",
       "      <td>18.55</td>\n",
       "      <td>1987</td>\n",
       "      <td>5</td>\n",
       "      <td>2.920470</td>\n",
       "      <td>9447</td>\n",
       "      <td>89245809</td>\n",
       "    </tr>\n",
       "    <tr>\n",
       "      <th>1987-05-25</th>\n",
       "      <td>18.60</td>\n",
       "      <td>1987</td>\n",
       "      <td>5</td>\n",
       "      <td>2.923162</td>\n",
       "      <td>9446</td>\n",
       "      <td>89226916</td>\n",
       "    </tr>\n",
       "    <tr>\n",
       "      <th>1987-05-26</th>\n",
       "      <td>18.63</td>\n",
       "      <td>1987</td>\n",
       "      <td>5</td>\n",
       "      <td>2.924773</td>\n",
       "      <td>9445</td>\n",
       "      <td>89208025</td>\n",
       "    </tr>\n",
       "    <tr>\n",
       "      <th>...</th>\n",
       "      <td>...</td>\n",
       "      <td>...</td>\n",
       "      <td>...</td>\n",
       "      <td>...</td>\n",
       "      <td>...</td>\n",
       "      <td>...</td>\n",
       "    </tr>\n",
       "    <tr>\n",
       "      <th>2016-05-04</th>\n",
       "      <td>43.08</td>\n",
       "      <td>2016</td>\n",
       "      <td>5</td>\n",
       "      <td>3.763059</td>\n",
       "      <td>1894</td>\n",
       "      <td>3587236</td>\n",
       "    </tr>\n",
       "    <tr>\n",
       "      <th>2016-05-05</th>\n",
       "      <td>44.39</td>\n",
       "      <td>2016</td>\n",
       "      <td>5</td>\n",
       "      <td>3.793014</td>\n",
       "      <td>1893</td>\n",
       "      <td>3583449</td>\n",
       "    </tr>\n",
       "    <tr>\n",
       "      <th>2016-05-06</th>\n",
       "      <td>44.60</td>\n",
       "      <td>2016</td>\n",
       "      <td>5</td>\n",
       "      <td>3.797734</td>\n",
       "      <td>1892</td>\n",
       "      <td>3579664</td>\n",
       "    </tr>\n",
       "    <tr>\n",
       "      <th>2016-05-09</th>\n",
       "      <td>42.43</td>\n",
       "      <td>2016</td>\n",
       "      <td>5</td>\n",
       "      <td>3.747856</td>\n",
       "      <td>1891</td>\n",
       "      <td>3575881</td>\n",
       "    </tr>\n",
       "    <tr>\n",
       "      <th>2016-05-10</th>\n",
       "      <td>44.01</td>\n",
       "      <td>2016</td>\n",
       "      <td>5</td>\n",
       "      <td>3.784417</td>\n",
       "      <td>1890</td>\n",
       "      <td>3572100</td>\n",
       "    </tr>\n",
       "  </tbody>\n",
       "</table>\n",
       "<p>7560 rows × 6 columns</p>\n",
       "</div>"
      ],
      "text/plain": [
       "            value  Year  Month  log_Price     t  t_squared\n",
       "date                                                      \n",
       "1987-05-20  18.63  1987      5   2.924773  9449   89283601\n",
       "1987-05-21  18.45  1987      5   2.915064  9448   89264704\n",
       "1987-05-22  18.55  1987      5   2.920470  9447   89245809\n",
       "1987-05-25  18.60  1987      5   2.923162  9446   89226916\n",
       "1987-05-26  18.63  1987      5   2.924773  9445   89208025\n",
       "...           ...   ...    ...        ...   ...        ...\n",
       "2016-05-04  43.08  2016      5   3.763059  1894    3587236\n",
       "2016-05-05  44.39  2016      5   3.793014  1893    3583449\n",
       "2016-05-06  44.60  2016      5   3.797734  1892    3579664\n",
       "2016-05-09  42.43  2016      5   3.747856  1891    3575881\n",
       "2016-05-10  44.01  2016      5   3.784417  1890    3572100\n",
       "\n",
       "[7560 rows x 6 columns]"
      ]
     },
     "execution_count": 36,
     "metadata": {},
     "output_type": "execute_result"
    }
   ],
   "source": [
    "train"
   ]
  },
  {
   "cell_type": "code",
   "execution_count": 37,
   "id": "8b5dacf3",
   "metadata": {
    "executionInfo": {
     "elapsed": 57,
     "status": "aborted",
     "timestamp": 1691987278532,
     "user": {
      "displayName": "Lavkush Chaudhary",
      "userId": "01013648497488669597"
     },
     "user_tz": -330
    },
    "id": "8b5dacf3"
   },
   "outputs": [
    {
     "data": {
      "text/html": [
       "<div>\n",
       "<style scoped>\n",
       "    .dataframe tbody tr th:only-of-type {\n",
       "        vertical-align: middle;\n",
       "    }\n",
       "\n",
       "    .dataframe tbody tr th {\n",
       "        vertical-align: top;\n",
       "    }\n",
       "\n",
       "    .dataframe thead th {\n",
       "        text-align: right;\n",
       "    }\n",
       "</style>\n",
       "<table border=\"1\" class=\"dataframe\">\n",
       "  <thead>\n",
       "    <tr style=\"text-align: right;\">\n",
       "      <th></th>\n",
       "      <th>Method</th>\n",
       "      <th>RMSE</th>\n",
       "    </tr>\n",
       "  </thead>\n",
       "  <tbody>\n",
       "    <tr>\n",
       "      <th>0</th>\n",
       "      <td>Linear method</td>\n",
       "      <td>40.937825</td>\n",
       "    </tr>\n",
       "  </tbody>\n",
       "</table>\n",
       "</div>"
      ],
      "text/plain": [
       "          Method       RMSE\n",
       "0  Linear method  40.937825"
      ]
     },
     "execution_count": 37,
     "metadata": {},
     "output_type": "execute_result"
    }
   ],
   "source": [
    "# Linear Model\n",
    "Linear_model=smf.ols('value~t', data=train).fit( )    #y~x\n",
    "pred_linear=pd.Series(Linear_model.predict(test['t']))   #predicting for test\n",
    "rmse_linear = np.sqrt(np.mean((np.array(test['value'])-np.array(pred_linear))**2))    #sqrt of mean(y act - y pred)^2\n",
    "rmse_linear\n",
    "\n",
    "results = pd.DataFrame({'Method':['Linear method'], 'RMSE': [rmse_linear]})\n",
    "results = results[['Method', 'RMSE']]\n",
    "results"
   ]
  },
  {
   "cell_type": "code",
   "execution_count": 38,
   "id": "a060c05c",
   "metadata": {
    "executionInfo": {
     "elapsed": 57,
     "status": "aborted",
     "timestamp": 1691987278532,
     "user": {
      "displayName": "Lavkush Chaudhary",
      "userId": "01013648497488669597"
     },
     "user_tz": -330
    },
    "id": "a060c05c"
   },
   "outputs": [
    {
     "data": {
      "text/html": [
       "<div>\n",
       "<style scoped>\n",
       "    .dataframe tbody tr th:only-of-type {\n",
       "        vertical-align: middle;\n",
       "    }\n",
       "\n",
       "    .dataframe tbody tr th {\n",
       "        vertical-align: top;\n",
       "    }\n",
       "\n",
       "    .dataframe thead th {\n",
       "        text-align: right;\n",
       "    }\n",
       "</style>\n",
       "<table border=\"1\" class=\"dataframe\">\n",
       "  <thead>\n",
       "    <tr style=\"text-align: right;\">\n",
       "      <th></th>\n",
       "      <th>Method</th>\n",
       "      <th>RMSE</th>\n",
       "    </tr>\n",
       "  </thead>\n",
       "  <tbody>\n",
       "    <tr>\n",
       "      <th>0</th>\n",
       "      <td>Linear method</td>\n",
       "      <td>40.937825</td>\n",
       "    </tr>\n",
       "    <tr>\n",
       "      <th>0</th>\n",
       "      <td>Exponential Model</td>\n",
       "      <td>68.004093</td>\n",
       "    </tr>\n",
       "  </tbody>\n",
       "</table>\n",
       "</div>"
      ],
      "text/plain": [
       "              Method       RMSE\n",
       "0      Linear method  40.937825\n",
       "0  Exponential Model  68.004093"
      ]
     },
     "execution_count": 38,
     "metadata": {},
     "output_type": "execute_result"
    }
   ],
   "source": [
    "#Exponential Model similiar to Linear but insted of Yt we use log(Yt)\n",
    "#SAME LIKE LINEAR BUT IN PLACE OF Yt WE USE LOG(Yt)\n",
    "Exp=smf.ols('log_Price~t', data=train).fit( )                                   #log(y)~x\n",
    "pred_Exp=pd.Series(Exp.predict(test['t']))   #predicting for test\n",
    "rmse_Exp = np.sqrt(np.mean((np.array(test['value'])-np.array(np.exp(pred_Exp)))**2))    #sqrt of mean(y act - y pred)^2\n",
    "rmse_Exp\n",
    "tempResults = pd.DataFrame({'Method':['Exponential Model'], 'RMSE': [rmse_Exp] })\n",
    "results = pd.concat([results, tempResults])\n",
    "results = results[['Method', 'RMSE']]\n",
    "results"
   ]
  },
  {
   "cell_type": "code",
   "execution_count": 39,
   "id": "7cebb60f",
   "metadata": {
    "executionInfo": {
     "elapsed": 57,
     "status": "aborted",
     "timestamp": 1691987278532,
     "user": {
      "displayName": "Lavkush Chaudhary",
      "userId": "01013648497488669597"
     },
     "user_tz": -330
    },
    "id": "7cebb60f"
   },
   "outputs": [
    {
     "data": {
      "text/html": [
       "<div>\n",
       "<style scoped>\n",
       "    .dataframe tbody tr th:only-of-type {\n",
       "        vertical-align: middle;\n",
       "    }\n",
       "\n",
       "    .dataframe tbody tr th {\n",
       "        vertical-align: top;\n",
       "    }\n",
       "\n",
       "    .dataframe thead th {\n",
       "        text-align: right;\n",
       "    }\n",
       "</style>\n",
       "<table border=\"1\" class=\"dataframe\">\n",
       "  <thead>\n",
       "    <tr style=\"text-align: right;\">\n",
       "      <th></th>\n",
       "      <th>Method</th>\n",
       "      <th>RMSE</th>\n",
       "    </tr>\n",
       "  </thead>\n",
       "  <tbody>\n",
       "    <tr>\n",
       "      <th>0</th>\n",
       "      <td>Linear method</td>\n",
       "      <td>40.937825</td>\n",
       "    </tr>\n",
       "    <tr>\n",
       "      <th>0</th>\n",
       "      <td>Exponential Model</td>\n",
       "      <td>68.004093</td>\n",
       "    </tr>\n",
       "    <tr>\n",
       "      <th>0</th>\n",
       "      <td>Quadratic Model</td>\n",
       "      <td>68.004093</td>\n",
       "    </tr>\n",
       "  </tbody>\n",
       "</table>\n",
       "</div>"
      ],
      "text/plain": [
       "              Method       RMSE\n",
       "0      Linear method  40.937825\n",
       "0  Exponential Model  68.004093\n",
       "0    Quadratic Model  68.004093"
      ]
     },
     "execution_count": 39,
     "metadata": {},
     "output_type": "execute_result"
    }
   ],
   "source": [
    "# Quadratic here we are creating two independent variables\n",
    "\n",
    "Quad=smf.ols('value~t+t_squared', data=train).fit( )\n",
    "\n",
    "pred_Quad=pd.Series(Quad.predict(test[['t', 't_squared']]))    #predicting for test\n",
    "rmse_Quad = np.sqrt(np.mean((np.array(test['value'])-np.array(pred_Quad))**2))    #sqrt of mean(y act - y pred)^2\n",
    "rmse_Quad\n",
    "\n",
    "tempResults = pd.DataFrame({'Method':['Quadratic Model'], 'RMSE': [rmse_Exp] })\n",
    "results = pd.concat([results,tempResults])\n",
    "results = results[['Method', 'RMSE']]\n",
    "results"
   ]
  },
  {
   "cell_type": "code",
   "execution_count": 40,
   "id": "d620969c",
   "metadata": {
    "executionInfo": {
     "elapsed": 57,
     "status": "aborted",
     "timestamp": 1691987278533,
     "user": {
      "displayName": "Lavkush Chaudhary",
      "userId": "01013648497488669597"
     },
     "user_tz": -330
    },
    "id": "d620969c"
   },
   "outputs": [],
   "source": [
    "train_len = 7560\n",
    "y_hat_naive = test.copy()\n",
    "y_hat_naive['naive_forecast'] = train['value'][train_len-1]"
   ]
  },
  {
   "cell_type": "code",
   "execution_count": 41,
   "id": "bdc767fb",
   "metadata": {
    "executionInfo": {
     "elapsed": 57,
     "status": "aborted",
     "timestamp": 1691987278533,
     "user": {
      "displayName": "Lavkush Chaudhary",
      "userId": "01013648497488669597"
     },
     "user_tz": -330
    },
    "id": "bdc767fb"
   },
   "outputs": [
    {
     "data": {
      "text/html": [
       "<div>\n",
       "<style scoped>\n",
       "    .dataframe tbody tr th:only-of-type {\n",
       "        vertical-align: middle;\n",
       "    }\n",
       "\n",
       "    .dataframe tbody tr th {\n",
       "        vertical-align: top;\n",
       "    }\n",
       "\n",
       "    .dataframe thead th {\n",
       "        text-align: right;\n",
       "    }\n",
       "</style>\n",
       "<table border=\"1\" class=\"dataframe\">\n",
       "  <thead>\n",
       "    <tr style=\"text-align: right;\">\n",
       "      <th></th>\n",
       "      <th>Method</th>\n",
       "      <th>RMSE</th>\n",
       "    </tr>\n",
       "  </thead>\n",
       "  <tbody>\n",
       "    <tr>\n",
       "      <th>0</th>\n",
       "      <td>Linear method</td>\n",
       "      <td>40.937825</td>\n",
       "    </tr>\n",
       "    <tr>\n",
       "      <th>0</th>\n",
       "      <td>Exponential Model</td>\n",
       "      <td>68.004093</td>\n",
       "    </tr>\n",
       "    <tr>\n",
       "      <th>0</th>\n",
       "      <td>Quadratic Model</td>\n",
       "      <td>68.004093</td>\n",
       "    </tr>\n",
       "    <tr>\n",
       "      <th>0</th>\n",
       "      <td>Naive Model</td>\n",
       "      <td>29.930000</td>\n",
       "    </tr>\n",
       "  </tbody>\n",
       "</table>\n",
       "</div>"
      ],
      "text/plain": [
       "              Method       RMSE\n",
       "0      Linear method  40.937825\n",
       "0  Exponential Model  68.004093\n",
       "0    Quadratic Model  68.004093\n",
       "0        Naive Model  29.930000"
      ]
     },
     "execution_count": 41,
     "metadata": {},
     "output_type": "execute_result"
    }
   ],
   "source": [
    "#Naive Model\n",
    "rmse = np.sqrt(mean_squared_error(test['value'], y_hat_naive['naive_forecast'])).round(2)\n",
    "tempResults = pd.DataFrame({'Method':['Naive Model'], 'RMSE': [rmse] })\n",
    "results = pd.concat([results,tempResults])\n",
    "results = results[['Method', 'RMSE']]\n",
    "results"
   ]
  },
  {
   "cell_type": "code",
   "execution_count": 42,
   "id": "70179795",
   "metadata": {
    "executionInfo": {
     "elapsed": 57,
     "status": "aborted",
     "timestamp": 1691987278533,
     "user": {
      "displayName": "Lavkush Chaudhary",
      "userId": "01013648497488669597"
     },
     "user_tz": -330
    },
    "id": "70179795"
   },
   "outputs": [
    {
     "name": "stderr",
     "output_type": "stream",
     "text": [
      "C:\\Users\\Rohit Shelar\\AppData\\Local\\Temp\\ipykernel_21704\\2163335855.py:4: SettingWithCopyWarning: \n",
      "A value is trying to be set on a copy of a slice from a DataFrame\n",
      "\n",
      "See the caveats in the documentation: https://pandas.pydata.org/pandas-docs/stable/user_guide/indexing.html#returning-a-view-versus-a-copy\n",
      "  y_hat_sma['sma_forecast'][train_len:] = y_hat_sma['sma_forecast'][train_len-1]\n"
     ]
    }
   ],
   "source": [
    "y_hat_sma = df2.copy()\n",
    "ma_window = 365\n",
    "y_hat_sma['sma_forecast'] = df2['value'].rolling(ma_window).mean()\n",
    "y_hat_sma['sma_forecast'][train_len:] = y_hat_sma['sma_forecast'][train_len-1]"
   ]
  },
  {
   "cell_type": "code",
   "execution_count": 43,
   "id": "2dfe7e49",
   "metadata": {
    "executionInfo": {
     "elapsed": 57,
     "status": "aborted",
     "timestamp": 1691987278533,
     "user": {
      "displayName": "Lavkush Chaudhary",
      "userId": "01013648497488669597"
     },
     "user_tz": -330
    },
    "id": "2dfe7e49",
    "scrolled": true
   },
   "outputs": [
    {
     "data": {
      "text/html": [
       "<div>\n",
       "<style scoped>\n",
       "    .dataframe tbody tr th:only-of-type {\n",
       "        vertical-align: middle;\n",
       "    }\n",
       "\n",
       "    .dataframe tbody tr th {\n",
       "        vertical-align: top;\n",
       "    }\n",
       "\n",
       "    .dataframe thead th {\n",
       "        text-align: right;\n",
       "    }\n",
       "</style>\n",
       "<table border=\"1\" class=\"dataframe\">\n",
       "  <thead>\n",
       "    <tr style=\"text-align: right;\">\n",
       "      <th></th>\n",
       "      <th>Method</th>\n",
       "      <th>RMSE</th>\n",
       "    </tr>\n",
       "  </thead>\n",
       "  <tbody>\n",
       "    <tr>\n",
       "      <th>0</th>\n",
       "      <td>Linear method</td>\n",
       "      <td>40.937825</td>\n",
       "    </tr>\n",
       "    <tr>\n",
       "      <th>0</th>\n",
       "      <td>Exponential Model</td>\n",
       "      <td>68.004093</td>\n",
       "    </tr>\n",
       "    <tr>\n",
       "      <th>0</th>\n",
       "      <td>Quadratic Model</td>\n",
       "      <td>68.004093</td>\n",
       "    </tr>\n",
       "    <tr>\n",
       "      <th>0</th>\n",
       "      <td>Naive Model</td>\n",
       "      <td>29.930000</td>\n",
       "    </tr>\n",
       "    <tr>\n",
       "      <th>0</th>\n",
       "      <td>Simple moving average</td>\n",
       "      <td>26.780000</td>\n",
       "    </tr>\n",
       "  </tbody>\n",
       "</table>\n",
       "</div>"
      ],
      "text/plain": [
       "                   Method       RMSE\n",
       "0           Linear method  40.937825\n",
       "0       Exponential Model  68.004093\n",
       "0         Quadratic Model  68.004093\n",
       "0             Naive Model  29.930000\n",
       "0  Simple moving average   26.780000"
      ]
     },
     "execution_count": 43,
     "metadata": {},
     "output_type": "execute_result"
    }
   ],
   "source": [
    "# Simple Moving Average\n",
    "rmse = np.sqrt(mean_squared_error(test['value'], y_hat_sma['sma_forecast'][train_len:])).round(2)\n",
    "tempResults = pd.DataFrame({'Method':['Simple moving average '], 'RMSE': [rmse] })\n",
    "results = pd.concat([results, tempResults])\n",
    "results = results[['Method', 'RMSE']]\n",
    "results"
   ]
  },
  {
   "cell_type": "code",
   "execution_count": 44,
   "id": "5b6f17a5",
   "metadata": {
    "executionInfo": {
     "elapsed": 57,
     "status": "aborted",
     "timestamp": 1691987278533,
     "user": {
      "displayName": "Lavkush Chaudhary",
      "userId": "01013648497488669597"
     },
     "user_tz": -330
    },
    "id": "5b6f17a5",
    "scrolled": true
   },
   "outputs": [
    {
     "name": "stderr",
     "output_type": "stream",
     "text": [
      "C:\\Users\\Rohit Shelar\\anaconda3\\lib\\site-packages\\statsmodels\\tsa\\base\\tsa_model.py:473: ValueWarning: No frequency information was provided, so inferred frequency B will be used.\n",
      "  self._init_dates(dates, freq)\n"
     ]
    },
    {
     "data": {
      "text/html": [
       "<div>\n",
       "<style scoped>\n",
       "    .dataframe tbody tr th:only-of-type {\n",
       "        vertical-align: middle;\n",
       "    }\n",
       "\n",
       "    .dataframe tbody tr th {\n",
       "        vertical-align: top;\n",
       "    }\n",
       "\n",
       "    .dataframe thead th {\n",
       "        text-align: right;\n",
       "    }\n",
       "</style>\n",
       "<table border=\"1\" class=\"dataframe\">\n",
       "  <thead>\n",
       "    <tr style=\"text-align: right;\">\n",
       "      <th></th>\n",
       "      <th>value</th>\n",
       "      <th>Year</th>\n",
       "      <th>Month</th>\n",
       "      <th>log_Price</th>\n",
       "      <th>t</th>\n",
       "      <th>t_squared</th>\n",
       "      <th>DES</th>\n",
       "    </tr>\n",
       "    <tr>\n",
       "      <th>date</th>\n",
       "      <th></th>\n",
       "      <th></th>\n",
       "      <th></th>\n",
       "      <th></th>\n",
       "      <th></th>\n",
       "      <th></th>\n",
       "      <th></th>\n",
       "    </tr>\n",
       "  </thead>\n",
       "  <tbody>\n",
       "    <tr>\n",
       "      <th>1987-05-20</th>\n",
       "      <td>18.63</td>\n",
       "      <td>1987</td>\n",
       "      <td>5</td>\n",
       "      <td>2.924773</td>\n",
       "      <td>9449</td>\n",
       "      <td>89283601</td>\n",
       "      <td>18.637217</td>\n",
       "    </tr>\n",
       "    <tr>\n",
       "      <th>1987-05-21</th>\n",
       "      <td>18.45</td>\n",
       "      <td>1987</td>\n",
       "      <td>5</td>\n",
       "      <td>2.915064</td>\n",
       "      <td>9448</td>\n",
       "      <td>89264704</td>\n",
       "      <td>18.457225</td>\n",
       "    </tr>\n",
       "    <tr>\n",
       "      <th>1987-05-22</th>\n",
       "      <td>18.55</td>\n",
       "      <td>1987</td>\n",
       "      <td>5</td>\n",
       "      <td>2.920470</td>\n",
       "      <td>9447</td>\n",
       "      <td>89245809</td>\n",
       "      <td>18.557221</td>\n",
       "    </tr>\n",
       "    <tr>\n",
       "      <th>1987-05-25</th>\n",
       "      <td>18.60</td>\n",
       "      <td>1987</td>\n",
       "      <td>5</td>\n",
       "      <td>2.923162</td>\n",
       "      <td>9446</td>\n",
       "      <td>89226916</td>\n",
       "      <td>18.607222</td>\n",
       "    </tr>\n",
       "    <tr>\n",
       "      <th>1987-05-26</th>\n",
       "      <td>18.63</td>\n",
       "      <td>1987</td>\n",
       "      <td>5</td>\n",
       "      <td>2.924773</td>\n",
       "      <td>9445</td>\n",
       "      <td>89208025</td>\n",
       "      <td>18.637222</td>\n",
       "    </tr>\n",
       "  </tbody>\n",
       "</table>\n",
       "</div>"
      ],
      "text/plain": [
       "            value  Year  Month  log_Price     t  t_squared        DES\n",
       "date                                                                 \n",
       "1987-05-20  18.63  1987      5   2.924773  9449   89283601  18.637217\n",
       "1987-05-21  18.45  1987      5   2.915064  9448   89264704  18.457225\n",
       "1987-05-22  18.55  1987      5   2.920470  9447   89245809  18.557221\n",
       "1987-05-25  18.60  1987      5   2.923162  9446   89226916  18.607222\n",
       "1987-05-26  18.63  1987      5   2.924773  9445   89208025  18.637222"
      ]
     },
     "execution_count": 44,
     "metadata": {},
     "output_type": "execute_result"
    }
   ],
   "source": [
    "# Double Exponential Smooting\n",
    "from statsmodels.tsa.holtwinters import ExponentialSmoothing\n",
    "\n",
    "mod_add12 = ExponentialSmoothing(df2['value'], trend='add')\n",
    "fitted_model= mod_add12.fit()\n",
    "df2['DES'] = fitted_model.fittedvalues.shift(-1)\n",
    "df2.head()"
   ]
  },
  {
   "cell_type": "code",
   "execution_count": 45,
   "id": "7cce9388",
   "metadata": {
    "executionInfo": {
     "elapsed": 58,
     "status": "aborted",
     "timestamp": 1691987278534,
     "user": {
      "displayName": "Lavkush Chaudhary",
      "userId": "01013648497488669597"
     },
     "user_tz": -330
    },
    "id": "7cce9388",
    "scrolled": true
   },
   "outputs": [
    {
     "name": "stderr",
     "output_type": "stream",
     "text": [
      "C:\\Users\\Rohit Shelar\\anaconda3\\lib\\site-packages\\statsmodels\\tsa\\base\\tsa_model.py:473: ValueWarning: No frequency information was provided, so inferred frequency B will be used.\n",
      "  self._init_dates(dates, freq)\n"
     ]
    },
    {
     "data": {
      "text/html": [
       "<div>\n",
       "<style scoped>\n",
       "    .dataframe tbody tr th:only-of-type {\n",
       "        vertical-align: middle;\n",
       "    }\n",
       "\n",
       "    .dataframe tbody tr th {\n",
       "        vertical-align: top;\n",
       "    }\n",
       "\n",
       "    .dataframe thead th {\n",
       "        text-align: right;\n",
       "    }\n",
       "</style>\n",
       "<table border=\"1\" class=\"dataframe\">\n",
       "  <thead>\n",
       "    <tr style=\"text-align: right;\">\n",
       "      <th></th>\n",
       "      <th>value</th>\n",
       "      <th>Year</th>\n",
       "      <th>Month</th>\n",
       "      <th>log_Price</th>\n",
       "      <th>t</th>\n",
       "      <th>t_squared</th>\n",
       "      <th>DES</th>\n",
       "      <th>TESA</th>\n",
       "    </tr>\n",
       "    <tr>\n",
       "      <th>date</th>\n",
       "      <th></th>\n",
       "      <th></th>\n",
       "      <th></th>\n",
       "      <th></th>\n",
       "      <th></th>\n",
       "      <th></th>\n",
       "      <th></th>\n",
       "      <th></th>\n",
       "    </tr>\n",
       "  </thead>\n",
       "  <tbody>\n",
       "    <tr>\n",
       "      <th>1987-05-20</th>\n",
       "      <td>18.63</td>\n",
       "      <td>1987</td>\n",
       "      <td>5</td>\n",
       "      <td>2.924773</td>\n",
       "      <td>9449</td>\n",
       "      <td>89283601</td>\n",
       "      <td>18.637217</td>\n",
       "      <td>18.659036</td>\n",
       "    </tr>\n",
       "    <tr>\n",
       "      <th>1987-05-21</th>\n",
       "      <td>18.45</td>\n",
       "      <td>1987</td>\n",
       "      <td>5</td>\n",
       "      <td>2.915064</td>\n",
       "      <td>9448</td>\n",
       "      <td>89264704</td>\n",
       "      <td>18.457225</td>\n",
       "      <td>18.668258</td>\n",
       "    </tr>\n",
       "    <tr>\n",
       "      <th>1987-05-22</th>\n",
       "      <td>18.55</td>\n",
       "      <td>1987</td>\n",
       "      <td>5</td>\n",
       "      <td>2.920470</td>\n",
       "      <td>9447</td>\n",
       "      <td>89245809</td>\n",
       "      <td>18.557221</td>\n",
       "      <td>18.468396</td>\n",
       "    </tr>\n",
       "    <tr>\n",
       "      <th>1987-05-25</th>\n",
       "      <td>18.60</td>\n",
       "      <td>1987</td>\n",
       "      <td>5</td>\n",
       "      <td>2.923162</td>\n",
       "      <td>9446</td>\n",
       "      <td>89226916</td>\n",
       "      <td>18.607222</td>\n",
       "      <td>18.525363</td>\n",
       "    </tr>\n",
       "    <tr>\n",
       "      <th>1987-05-26</th>\n",
       "      <td>18.63</td>\n",
       "      <td>1987</td>\n",
       "      <td>5</td>\n",
       "      <td>2.924773</td>\n",
       "      <td>9445</td>\n",
       "      <td>89208025</td>\n",
       "      <td>18.637222</td>\n",
       "      <td>18.653245</td>\n",
       "    </tr>\n",
       "  </tbody>\n",
       "</table>\n",
       "</div>"
      ],
      "text/plain": [
       "            value  Year  Month  log_Price     t  t_squared        DES   \n",
       "date                                                                    \n",
       "1987-05-20  18.63  1987      5   2.924773  9449   89283601  18.637217  \\\n",
       "1987-05-21  18.45  1987      5   2.915064  9448   89264704  18.457225   \n",
       "1987-05-22  18.55  1987      5   2.920470  9447   89245809  18.557221   \n",
       "1987-05-25  18.60  1987      5   2.923162  9446   89226916  18.607222   \n",
       "1987-05-26  18.63  1987      5   2.924773  9445   89208025  18.637222   \n",
       "\n",
       "                 TESA  \n",
       "date                   \n",
       "1987-05-20  18.659036  \n",
       "1987-05-21  18.668258  \n",
       "1987-05-22  18.468396  \n",
       "1987-05-25  18.525363  \n",
       "1987-05-26  18.653245  "
      ]
     },
     "execution_count": 45,
     "metadata": {},
     "output_type": "execute_result"
    }
   ],
   "source": [
    "#Triple Exponential Smooting by adding\n",
    "df2['TESA'] = ExponentialSmoothing(df2['value'],trend='add',seasonal='add',seasonal_periods=12).fit().fittedvalues\n",
    "df2.head()"
   ]
  },
  {
   "cell_type": "code",
   "execution_count": 46,
   "id": "941fbf64",
   "metadata": {
    "executionInfo": {
     "elapsed": 57,
     "status": "aborted",
     "timestamp": 1691987278534,
     "user": {
      "displayName": "Lavkush Chaudhary",
      "userId": "01013648497488669597"
     },
     "user_tz": -330
    },
    "id": "941fbf64"
   },
   "outputs": [
    {
     "name": "stderr",
     "output_type": "stream",
     "text": [
      "C:\\Users\\Rohit Shelar\\anaconda3\\lib\\site-packages\\statsmodels\\tsa\\base\\tsa_model.py:473: ValueWarning: No frequency information was provided, so inferred frequency B will be used.\n",
      "  self._init_dates(dates, freq)\n",
      "C:\\Users\\Rohit Shelar\\anaconda3\\lib\\site-packages\\statsmodels\\tsa\\holtwinters\\model.py:83: RuntimeWarning: overflow encountered in matmul\n",
      "  return err.T @ err\n"
     ]
    },
    {
     "data": {
      "text/html": [
       "<div>\n",
       "<style scoped>\n",
       "    .dataframe tbody tr th:only-of-type {\n",
       "        vertical-align: middle;\n",
       "    }\n",
       "\n",
       "    .dataframe tbody tr th {\n",
       "        vertical-align: top;\n",
       "    }\n",
       "\n",
       "    .dataframe thead th {\n",
       "        text-align: right;\n",
       "    }\n",
       "</style>\n",
       "<table border=\"1\" class=\"dataframe\">\n",
       "  <thead>\n",
       "    <tr style=\"text-align: right;\">\n",
       "      <th></th>\n",
       "      <th>value</th>\n",
       "      <th>Year</th>\n",
       "      <th>Month</th>\n",
       "      <th>log_Price</th>\n",
       "      <th>t</th>\n",
       "      <th>t_squared</th>\n",
       "      <th>DES</th>\n",
       "      <th>TESA</th>\n",
       "      <th>TESM</th>\n",
       "    </tr>\n",
       "    <tr>\n",
       "      <th>date</th>\n",
       "      <th></th>\n",
       "      <th></th>\n",
       "      <th></th>\n",
       "      <th></th>\n",
       "      <th></th>\n",
       "      <th></th>\n",
       "      <th></th>\n",
       "      <th></th>\n",
       "      <th></th>\n",
       "    </tr>\n",
       "  </thead>\n",
       "  <tbody>\n",
       "    <tr>\n",
       "      <th>1987-05-20</th>\n",
       "      <td>18.63</td>\n",
       "      <td>1987</td>\n",
       "      <td>5</td>\n",
       "      <td>2.924773</td>\n",
       "      <td>9449</td>\n",
       "      <td>89283601</td>\n",
       "      <td>18.637217</td>\n",
       "      <td>18.659036</td>\n",
       "      <td>19.366293</td>\n",
       "    </tr>\n",
       "    <tr>\n",
       "      <th>1987-05-21</th>\n",
       "      <td>18.45</td>\n",
       "      <td>1987</td>\n",
       "      <td>5</td>\n",
       "      <td>2.915064</td>\n",
       "      <td>9448</td>\n",
       "      <td>89264704</td>\n",
       "      <td>18.457225</td>\n",
       "      <td>18.668258</td>\n",
       "      <td>18.607937</td>\n",
       "    </tr>\n",
       "    <tr>\n",
       "      <th>1987-05-22</th>\n",
       "      <td>18.55</td>\n",
       "      <td>1987</td>\n",
       "      <td>5</td>\n",
       "      <td>2.920470</td>\n",
       "      <td>9447</td>\n",
       "      <td>89245809</td>\n",
       "      <td>18.557221</td>\n",
       "      <td>18.468396</td>\n",
       "      <td>18.345662</td>\n",
       "    </tr>\n",
       "    <tr>\n",
       "      <th>1987-05-25</th>\n",
       "      <td>18.60</td>\n",
       "      <td>1987</td>\n",
       "      <td>5</td>\n",
       "      <td>2.923162</td>\n",
       "      <td>9446</td>\n",
       "      <td>89226916</td>\n",
       "      <td>18.607222</td>\n",
       "      <td>18.525363</td>\n",
       "      <td>18.524362</td>\n",
       "    </tr>\n",
       "    <tr>\n",
       "      <th>1987-05-26</th>\n",
       "      <td>18.63</td>\n",
       "      <td>1987</td>\n",
       "      <td>5</td>\n",
       "      <td>2.924773</td>\n",
       "      <td>9445</td>\n",
       "      <td>89208025</td>\n",
       "      <td>18.637222</td>\n",
       "      <td>18.653245</td>\n",
       "      <td>18.586236</td>\n",
       "    </tr>\n",
       "  </tbody>\n",
       "</table>\n",
       "</div>"
      ],
      "text/plain": [
       "            value  Year  Month  log_Price     t  t_squared        DES   \n",
       "date                                                                    \n",
       "1987-05-20  18.63  1987      5   2.924773  9449   89283601  18.637217  \\\n",
       "1987-05-21  18.45  1987      5   2.915064  9448   89264704  18.457225   \n",
       "1987-05-22  18.55  1987      5   2.920470  9447   89245809  18.557221   \n",
       "1987-05-25  18.60  1987      5   2.923162  9446   89226916  18.607222   \n",
       "1987-05-26  18.63  1987      5   2.924773  9445   89208025  18.637222   \n",
       "\n",
       "                 TESA       TESM  \n",
       "date                              \n",
       "1987-05-20  18.659036  19.366293  \n",
       "1987-05-21  18.668258  18.607937  \n",
       "1987-05-22  18.468396  18.345662  \n",
       "1987-05-25  18.525363  18.524362  \n",
       "1987-05-26  18.653245  18.586236  "
      ]
     },
     "execution_count": 46,
     "metadata": {},
     "output_type": "execute_result"
    }
   ],
   "source": [
    "#Triple Exponential Smooting by multiplying\n",
    "df2['TESM'] = ExponentialSmoothing(df2['value'],trend='mul',seasonal='mul',seasonal_periods=12).fit().fittedvalues\n",
    "df2.head()"
   ]
  },
  {
   "cell_type": "code",
   "execution_count": 47,
   "id": "fdcf896e",
   "metadata": {
    "executionInfo": {
     "elapsed": 57,
     "status": "aborted",
     "timestamp": 1691987278534,
     "user": {
      "displayName": "Lavkush Chaudhary",
      "userId": "01013648497488669597"
     },
     "user_tz": -330
    },
    "id": "fdcf896e",
    "scrolled": true
   },
   "outputs": [
    {
     "data": {
      "text/plain": [
       "<Axes: xlabel='date'>"
      ]
     },
     "execution_count": 47,
     "metadata": {},
     "output_type": "execute_result"
    },
    {
     "data": {
      "image/png": "[encoded data removed]",
      "text/plain": [
       "<Figure size 864x432 with 1 Axes>"
      ]
     },
     "metadata": {
      "needs_background": "light"
     },
     "output_type": "display_data"
    }
   ],
   "source": [
    "df2[['value','TESA','TESM']].plot(figsize=(12,6))"
   ]
  },
  {
   "cell_type": "code",
   "execution_count": 48,
   "id": "e7f40024",
   "metadata": {
    "executionInfo": {
     "elapsed": 59,
     "status": "aborted",
     "timestamp": 1691987278536,
     "user": {
      "displayName": "Lavkush Chaudhary",
      "userId": "01013648497488669597"
     },
     "user_tz": -330
    },
    "id": "e7f40024"
   },
   "outputs": [
    {
     "data": {
      "image/png": "[encoded data removed]",
      "text/plain": [
       "<Figure size 432x288 with 4 Axes>"
      ]
     },
     "metadata": {
      "needs_background": "light"
     },
     "output_type": "display_data"
    }
   ],
   "source": [
    "from statsmodels.tsa.seasonal import seasonal_decompose\n",
    "decompose_ts_add = seasonal_decompose(df2.value,period=12)\n",
    "decompose_ts_add.plot()\n",
    "plt.show()"
   ]
  },
  {
   "cell_type": "markdown",
   "id": "37b0f513",
   "metadata": {
    "id": "37b0f513"
   },
   "source": [
    "**ARIMA and SARIMA Model**"
   ]
  },
  {
   "cell_type": "code",
   "execution_count": 49,
   "id": "8c6a95f8",
   "metadata": {
    "executionInfo": {
     "elapsed": 59,
     "status": "aborted",
     "timestamp": 1691987278536,
     "user": {
      "displayName": "Lavkush Chaudhary",
      "userId": "01013648497488669597"
     },
     "user_tz": -330
    },
    "id": "8c6a95f8",
    "scrolled": false
   },
   "outputs": [
    {
     "name": "stderr",
     "output_type": "stream",
     "text": [
      "C:\\Users\\Rohit Shelar\\anaconda3\\lib\\site-packages\\statsmodels\\tsa\\base\\tsa_model.py:473: ValueWarning: No frequency information was provided, so inferred frequency B will be used.\n",
      "  self._init_dates(dates, freq)\n",
      "C:\\Users\\Rohit Shelar\\anaconda3\\lib\\site-packages\\statsmodels\\tsa\\base\\tsa_model.py:473: ValueWarning: No frequency information was provided, so inferred frequency B will be used.\n",
      "  self._init_dates(dates, freq)\n",
      "C:\\Users\\Rohit Shelar\\anaconda3\\lib\\site-packages\\statsmodels\\tsa\\base\\tsa_model.py:473: ValueWarning: No frequency information was provided, so inferred frequency B will be used.\n",
      "  self._init_dates(dates, freq)\n",
      "C:\\Users\\Rohit Shelar\\anaconda3\\lib\\site-packages\\statsmodels\\tsa\\base\\tsa_model.py:473: ValueWarning: No frequency information was provided, so inferred frequency B will be used.\n",
      "  self._init_dates(dates, freq)\n",
      "C:\\Users\\Rohit Shelar\\anaconda3\\lib\\site-packages\\statsmodels\\tsa\\base\\tsa_model.py:473: ValueWarning: No frequency information was provided, so inferred frequency B will be used.\n",
      "  self._init_dates(dates, freq)\n",
      "C:\\Users\\Rohit Shelar\\anaconda3\\lib\\site-packages\\statsmodels\\tsa\\base\\tsa_model.py:473: ValueWarning: No frequency information was provided, so inferred frequency B will be used.\n",
      "  self._init_dates(dates, freq)\n",
      "C:\\Users\\Rohit Shelar\\anaconda3\\lib\\site-packages\\statsmodels\\tsa\\base\\tsa_model.py:473: ValueWarning: No frequency information was provided, so inferred frequency B will be used.\n",
      "  self._init_dates(dates, freq)\n",
      "C:\\Users\\Rohit Shelar\\anaconda3\\lib\\site-packages\\statsmodels\\tsa\\base\\tsa_model.py:473: ValueWarning: No frequency information was provided, so inferred frequency B will be used.\n",
      "  self._init_dates(dates, freq)\n",
      "C:\\Users\\Rohit Shelar\\anaconda3\\lib\\site-packages\\statsmodels\\tsa\\base\\tsa_model.py:473: ValueWarning: No frequency information was provided, so inferred frequency B will be used.\n",
      "  self._init_dates(dates, freq)\n",
      "C:\\Users\\Rohit Shelar\\anaconda3\\lib\\site-packages\\statsmodels\\tsa\\base\\tsa_model.py:473: ValueWarning: No frequency information was provided, so inferred frequency B will be used.\n",
      "  self._init_dates(dates, freq)\n",
      "C:\\Users\\Rohit Shelar\\anaconda3\\lib\\site-packages\\statsmodels\\tsa\\base\\tsa_model.py:473: ValueWarning: No frequency information was provided, so inferred frequency B will be used.\n",
      "  self._init_dates(dates, freq)\n",
      "C:\\Users\\Rohit Shelar\\anaconda3\\lib\\site-packages\\statsmodels\\tsa\\base\\tsa_model.py:473: ValueWarning: No frequency information was provided, so inferred frequency B will be used.\n",
      "  self._init_dates(dates, freq)\n",
      "C:\\Users\\Rohit Shelar\\anaconda3\\lib\\site-packages\\statsmodels\\tsa\\statespace\\sarimax.py:966: UserWarning: Non-stationary starting autoregressive parameters found. Using zeros as starting parameters.\n",
      "  warn('Non-stationary starting autoregressive parameters'\n",
      "C:\\Users\\Rohit Shelar\\anaconda3\\lib\\site-packages\\statsmodels\\tsa\\statespace\\sarimax.py:978: UserWarning: Non-invertible starting MA parameters found. Using zeros as starting parameters.\n",
      "  warn('Non-invertible starting MA parameters found.'\n",
      "C:\\Users\\Rohit Shelar\\anaconda3\\lib\\site-packages\\statsmodels\\tsa\\base\\tsa_model.py:473: ValueWarning: No frequency information was provided, so inferred frequency B will be used.\n",
      "  self._init_dates(dates, freq)\n",
      "C:\\Users\\Rohit Shelar\\anaconda3\\lib\\site-packages\\statsmodels\\tsa\\base\\tsa_model.py:473: ValueWarning: No frequency information was provided, so inferred frequency B will be used.\n",
      "  self._init_dates(dates, freq)\n",
      "C:\\Users\\Rohit Shelar\\anaconda3\\lib\\site-packages\\statsmodels\\tsa\\base\\tsa_model.py:473: ValueWarning: No frequency information was provided, so inferred frequency B will be used.\n",
      "  self._init_dates(dates, freq)\n",
      "C:\\Users\\Rohit Shelar\\anaconda3\\lib\\site-packages\\statsmodels\\tsa\\base\\tsa_model.py:473: ValueWarning: No frequency information was provided, so inferred frequency B will be used.\n",
      "  self._init_dates(dates, freq)\n",
      "C:\\Users\\Rohit Shelar\\anaconda3\\lib\\site-packages\\statsmodels\\tsa\\base\\tsa_model.py:473: ValueWarning: No frequency information was provided, so inferred frequency B will be used.\n",
      "  self._init_dates(dates, freq)\n",
      "C:\\Users\\Rohit Shelar\\anaconda3\\lib\\site-packages\\statsmodels\\tsa\\base\\tsa_model.py:473: ValueWarning: No frequency information was provided, so inferred frequency B will be used.\n",
      "  self._init_dates(dates, freq)\n",
      "C:\\Users\\Rohit Shelar\\anaconda3\\lib\\site-packages\\statsmodels\\tsa\\base\\tsa_model.py:473: ValueWarning: No frequency information was provided, so inferred frequency B will be used.\n",
      "  self._init_dates(dates, freq)\n",
      "C:\\Users\\Rohit Shelar\\anaconda3\\lib\\site-packages\\statsmodels\\tsa\\base\\tsa_model.py:473: ValueWarning: No frequency information was provided, so inferred frequency B will be used.\n",
      "  self._init_dates(dates, freq)\n",
      "C:\\Users\\Rohit Shelar\\anaconda3\\lib\\site-packages\\statsmodels\\tsa\\base\\tsa_model.py:473: ValueWarning: No frequency information was provided, so inferred frequency B will be used.\n",
      "  self._init_dates(dates, freq)\n",
      "C:\\Users\\Rohit Shelar\\anaconda3\\lib\\site-packages\\statsmodels\\tsa\\base\\tsa_model.py:473: ValueWarning: No frequency information was provided, so inferred frequency B will be used.\n",
      "  self._init_dates(dates, freq)\n",
      "C:\\Users\\Rohit Shelar\\anaconda3\\lib\\site-packages\\statsmodels\\tsa\\base\\tsa_model.py:473: ValueWarning: No frequency information was provided, so inferred frequency B will be used.\n",
      "  self._init_dates(dates, freq)\n",
      "C:\\Users\\Rohit Shelar\\anaconda3\\lib\\site-packages\\statsmodels\\tsa\\base\\tsa_model.py:473: ValueWarning: No frequency information was provided, so inferred frequency B will be used.\n",
      "  self._init_dates(dates, freq)\n",
      "C:\\Users\\Rohit Shelar\\anaconda3\\lib\\site-packages\\statsmodels\\tsa\\base\\tsa_model.py:473: ValueWarning: No frequency information was provided, so inferred frequency B will be used.\n",
      "  self._init_dates(dates, freq)\n",
      "C:\\Users\\Rohit Shelar\\anaconda3\\lib\\site-packages\\statsmodels\\tsa\\base\\tsa_model.py:473: ValueWarning: No frequency information was provided, so inferred frequency B will be used.\n",
      "  self._init_dates(dates, freq)\n",
      "C:\\Users\\Rohit Shelar\\anaconda3\\lib\\site-packages\\statsmodels\\tsa\\base\\tsa_model.py:473: ValueWarning: No frequency information was provided, so inferred frequency B will be used.\n",
      "  self._init_dates(dates, freq)\n",
      "C:\\Users\\Rohit Shelar\\anaconda3\\lib\\site-packages\\statsmodels\\tsa\\base\\tsa_model.py:473: ValueWarning: No frequency information was provided, so inferred frequency B will be used.\n",
      "  self._init_dates(dates, freq)\n",
      "C:\\Users\\Rohit Shelar\\anaconda3\\lib\\site-packages\\statsmodels\\tsa\\base\\tsa_model.py:473: ValueWarning: No frequency information was provided, so inferred frequency B will be used.\n",
      "  self._init_dates(dates, freq)\n",
      "C:\\Users\\Rohit Shelar\\anaconda3\\lib\\site-packages\\statsmodels\\tsa\\base\\tsa_model.py:473: ValueWarning: No frequency information was provided, so inferred frequency B will be used.\n",
      "  self._init_dates(dates, freq)\n"
     ]
    },
    {
     "name": "stdout",
     "output_type": "stream",
     "text": [
      "Best ARIMA MAE: 23.385733825101934\n",
      "Best ARIMA Parameters: (0, 0, 0)\n"
     ]
    }
   ],
   "source": [
    "from statsmodels.tsa.arima.model import ARIMA\n",
    "from sklearn.metrics import mean_absolute_error, mean_squared_error\n",
    "import numpy as np\n",
    "from scipy.stats import randint\n",
    "\n",
    "# Define parameter ranges for random search\n",
    "param_dist = {\n",
    "    'p': randint(0, 3),\n",
    "    'd': randint(0, 2),\n",
    "    'q': randint(0, 3)\n",
    "}\n",
    "\n",
    "# Number of random search iterations\n",
    "n_iter = 10\n",
    "\n",
    "# Split the data into train and test sets\n",
    "train_size = int(len(df2) * 0.8)\n",
    "train_data = df2[:train_size]\n",
    "test_data = df2[train_size:]\n",
    "\n",
    "best_mae = float('inf')\n",
    "best_params = None\n",
    "\n",
    "# Perform random search\n",
    "for _ in range(n_iter):\n",
    "    try:\n",
    "        random_params = {param: dist.rvs() for param, dist in param_dist.items()}\n",
    "        order = (random_params['p'], random_params['d'], random_params['q'])\n",
    "\n",
    "        arima_model = ARIMA(train_data['value'], order=order)\n",
    "        arima_results = arima_model.fit()\n",
    "\n",
    "        arima_forecast = arima_results.forecast(steps=len(test_data))\n",
    "        arima_mae = mean_absolute_error(test_data['value'], arima_forecast)\n",
    "\n",
    "        if arima_mae < best_mae:\n",
    "            best_mae = arima_mae\n",
    "            best_params = order\n",
    "    except:\n",
    "        continue\n",
    "\n",
    "print(\"Best ARIMA MAE:\", best_mae)\n",
    "print(\"Best ARIMA Parameters:\", best_params)\n"
   ]
  },
  {
   "cell_type": "code",
   "execution_count": 50,
   "id": "6c823d88",
   "metadata": {
    "executionInfo": {
     "elapsed": 59,
     "status": "aborted",
     "timestamp": 1691987278536,
     "user": {
      "displayName": "Lavkush Chaudhary",
      "userId": "01013648497488669597"
     },
     "user_tz": -330
    },
    "id": "6c823d88"
   },
   "outputs": [],
   "source": [
    "# You need to specify appropriate values for p, d, and q\n",
    "order = best_params"
   ]
  },
  {
   "cell_type": "code",
   "execution_count": 51,
   "id": "7e4caaed",
   "metadata": {
    "executionInfo": {
     "elapsed": 60,
     "status": "aborted",
     "timestamp": 1691987278537,
     "user": {
      "displayName": "Lavkush Chaudhary",
      "userId": "01013648497488669597"
     },
     "user_tz": -330
    },
    "id": "7e4caaed"
   },
   "outputs": [
    {
     "name": "stderr",
     "output_type": "stream",
     "text": [
      "C:\\Users\\Rohit Shelar\\anaconda3\\lib\\site-packages\\statsmodels\\tsa\\base\\tsa_model.py:473: ValueWarning: No frequency information was provided, so inferred frequency B will be used.\n",
      "  self._init_dates(dates, freq)\n",
      "C:\\Users\\Rohit Shelar\\anaconda3\\lib\\site-packages\\statsmodels\\tsa\\base\\tsa_model.py:473: ValueWarning: No frequency information was provided, so inferred frequency B will be used.\n",
      "  self._init_dates(dates, freq)\n",
      "C:\\Users\\Rohit Shelar\\anaconda3\\lib\\site-packages\\statsmodels\\tsa\\base\\tsa_model.py:473: ValueWarning: No frequency information was provided, so inferred frequency B will be used.\n",
      "  self._init_dates(dates, freq)\n"
     ]
    }
   ],
   "source": [
    "# Initialize and fit the ARIMA model\n",
    "arima_model = ARIMA(train['value'], order=order)\n",
    "arima_results = arima_model.fit()"
   ]
  },
  {
   "cell_type": "code",
   "execution_count": 52,
   "id": "5f8b8e3f",
   "metadata": {
    "executionInfo": {
     "elapsed": 59,
     "status": "aborted",
     "timestamp": 1691987278537,
     "user": {
      "displayName": "Lavkush Chaudhary",
      "userId": "01013648497488669597"
     },
     "user_tz": -330
    },
    "id": "5f8b8e3f"
   },
   "outputs": [],
   "source": [
    "arima_forecast = arima_results.forecast(steps=len(test))"
   ]
  },
  {
   "cell_type": "code",
   "execution_count": 53,
   "id": "5aff0e44",
   "metadata": {
    "executionInfo": {
     "elapsed": 59,
     "status": "aborted",
     "timestamp": 1691987278537,
     "user": {
      "displayName": "Lavkush Chaudhary",
      "userId": "01013648497488669597"
     },
     "user_tz": -330
    },
    "id": "5aff0e44"
   },
   "outputs": [],
   "source": [
    "from sklearn.metrics import mean_absolute_error, mean_squared_error\n",
    "\n",
    "arima_mae = mean_absolute_error(test['value'], arima_forecast)\n",
    "arima_rmse = np.sqrt(mean_squared_error(test['value'], arima_forecast))"
   ]
  },
  {
   "cell_type": "code",
   "execution_count": 54,
   "id": "737422dd",
   "metadata": {
    "executionInfo": {
     "elapsed": 60,
     "status": "aborted",
     "timestamp": 1691987278538,
     "user": {
      "displayName": "Lavkush Chaudhary",
      "userId": "01013648497488669597"
     },
     "user_tz": -330
    },
    "id": "737422dd"
   },
   "outputs": [
    {
     "data": {
      "text/html": [
       "<div>\n",
       "<style scoped>\n",
       "    .dataframe tbody tr th:only-of-type {\n",
       "        vertical-align: middle;\n",
       "    }\n",
       "\n",
       "    .dataframe tbody tr th {\n",
       "        vertical-align: top;\n",
       "    }\n",
       "\n",
       "    .dataframe thead th {\n",
       "        text-align: right;\n",
       "    }\n",
       "</style>\n",
       "<table border=\"1\" class=\"dataframe\">\n",
       "  <thead>\n",
       "    <tr style=\"text-align: right;\">\n",
       "      <th></th>\n",
       "      <th>Method</th>\n",
       "      <th>RMSE</th>\n",
       "    </tr>\n",
       "  </thead>\n",
       "  <tbody>\n",
       "    <tr>\n",
       "      <th>0</th>\n",
       "      <td>Linear method</td>\n",
       "      <td>40.937825</td>\n",
       "    </tr>\n",
       "    <tr>\n",
       "      <th>0</th>\n",
       "      <td>Exponential Model</td>\n",
       "      <td>68.004093</td>\n",
       "    </tr>\n",
       "    <tr>\n",
       "      <th>0</th>\n",
       "      <td>Quadratic Model</td>\n",
       "      <td>68.004093</td>\n",
       "    </tr>\n",
       "    <tr>\n",
       "      <th>0</th>\n",
       "      <td>Naive Model</td>\n",
       "      <td>29.930000</td>\n",
       "    </tr>\n",
       "    <tr>\n",
       "      <th>0</th>\n",
       "      <td>Simple moving average</td>\n",
       "      <td>26.780000</td>\n",
       "    </tr>\n",
       "    <tr>\n",
       "      <th>0</th>\n",
       "      <td>ARIMA</td>\n",
       "      <td>29.321587</td>\n",
       "    </tr>\n",
       "  </tbody>\n",
       "</table>\n",
       "</div>"
      ],
      "text/plain": [
       "                   Method       RMSE\n",
       "0           Linear method  40.937825\n",
       "0       Exponential Model  68.004093\n",
       "0         Quadratic Model  68.004093\n",
       "0             Naive Model  29.930000\n",
       "0  Simple moving average   26.780000\n",
       "0                   ARIMA  29.321587"
      ]
     },
     "execution_count": 54,
     "metadata": {},
     "output_type": "execute_result"
    }
   ],
   "source": [
    "tempResults = pd.DataFrame({'Method':['ARIMA'], 'RMSE': [arima_rmse] })\n",
    "results = pd.concat([results, tempResults])\n",
    "results = results[['Method', 'RMSE']]\n",
    "results"
   ]
  },
  {
   "cell_type": "markdown",
   "id": "e146ee3d",
   "metadata": {
    "id": "e146ee3d"
   },
   "source": [
    "## LSTM Model"
   ]
  },
  {
   "cell_type": "code",
   "execution_count": 55,
   "id": "e882c4fa",
   "metadata": {
    "executionInfo": {
     "elapsed": 60,
     "status": "aborted",
     "timestamp": 1691987278538,
     "user": {
      "displayName": "Lavkush Chaudhary",
      "userId": "01013648497488669597"
     },
     "user_tz": -330
    },
    "id": "e882c4fa"
   },
   "outputs": [],
   "source": [
    "scaler = MinMaxScaler()\n",
    "scaled_data = scaler.fit_transform(df2[['value']])"
   ]
  },
  {
   "cell_type": "code",
   "execution_count": 56,
   "id": "2d708c06",
   "metadata": {
    "executionInfo": {
     "elapsed": 60,
     "status": "aborted",
     "timestamp": 1691987278538,
     "user": {
      "displayName": "Lavkush Chaudhary",
      "userId": "01013648497488669597"
     },
     "user_tz": -330
    },
    "id": "2d708c06"
   },
   "outputs": [],
   "source": [
    "sequence_length = 10"
   ]
  },
  {
   "cell_type": "code",
   "execution_count": 57,
   "id": "dbc6d520",
   "metadata": {
    "executionInfo": {
     "elapsed": 60,
     "status": "aborted",
     "timestamp": 1691987278538,
     "user": {
      "displayName": "Lavkush Chaudhary",
      "userId": "01013648497488669597"
     },
     "user_tz": -330
    },
    "id": "dbc6d520"
   },
   "outputs": [],
   "source": [
    "sequences = []\n",
    "target = []\n",
    "for i in range(sequence_length, len(scaled_data)):\n",
    "    sequences.append(scaled_data[i - sequence_length:i, 0])\n",
    "    target.append(scaled_data[i, 0])\n",
    "\n",
    "X = np.array(sequences)\n",
    "y = np.array(target)\n",
    "\n",
    "# Split the data into train and test sets\n",
    "train_size = int(len(X) * 0.8)\n",
    "X_train, X_test = X[:train_size], X[train_size:]\n",
    "y_train, y_test = y[:train_size], y[train_size:]"
   ]
  },
  {
   "cell_type": "code",
   "execution_count": 58,
   "id": "2902f3ec",
   "metadata": {
    "executionInfo": {
     "elapsed": 60,
     "status": "aborted",
     "timestamp": 1691987278539,
     "user": {
      "displayName": "Lavkush Chaudhary",
      "userId": "01013648497488669597"
     },
     "user_tz": -330
    },
    "id": "2902f3ec"
   },
   "outputs": [
    {
     "name": "stdout",
     "output_type": "stream",
     "text": [
      "Epoch 1/50\n",
      "236/236 [==============================] - 2s 4ms/step - loss: 0.0043\n",
      "Epoch 2/50\n",
      "236/236 [==============================] - 1s 4ms/step - loss: 1.8853e-04\n",
      "Epoch 3/50\n",
      "236/236 [==============================] - 1s 4ms/step - loss: 1.7383e-04\n",
      "Epoch 4/50\n",
      "236/236 [==============================] - 2s 7ms/step - loss: 1.6179e-04\n",
      "Epoch 5/50\n",
      "236/236 [==============================] - 1s 5ms/step - loss: 1.6140e-04\n",
      "Epoch 6/50\n",
      "236/236 [==============================] - 1s 5ms/step - loss: 1.4930e-04\n",
      "Epoch 7/50\n",
      "236/236 [==============================] - 1s 4ms/step - loss: 1.3338e-04\n",
      "Epoch 8/50\n",
      "236/236 [==============================] - 1s 4ms/step - loss: 1.3556e-04\n",
      "Epoch 9/50\n",
      "236/236 [==============================] - 1s 4ms/step - loss: 1.2423e-04\n",
      "Epoch 10/50\n",
      "236/236 [==============================] - 1s 4ms/step - loss: 1.2419e-04\n",
      "Epoch 11/50\n",
      "236/236 [==============================] - 1s 3ms/step - loss: 1.1370e-04\n",
      "Epoch 12/50\n",
      "236/236 [==============================] - 1s 3ms/step - loss: 1.0760e-04\n",
      "Epoch 13/50\n",
      "236/236 [==============================] - 1s 3ms/step - loss: 1.0122e-04\n",
      "Epoch 14/50\n",
      "236/236 [==============================] - 1s 3ms/step - loss: 1.0881e-04\n",
      "Epoch 15/50\n",
      "236/236 [==============================] - 1s 3ms/step - loss: 9.8875e-05\n",
      "Epoch 16/50\n",
      "236/236 [==============================] - 1s 3ms/step - loss: 1.0041e-04\n",
      "Epoch 17/50\n",
      "236/236 [==============================] - 1s 3ms/step - loss: 9.7018e-05\n",
      "Epoch 18/50\n",
      "236/236 [==============================] - 1s 3ms/step - loss: 9.8571e-05\n",
      "Epoch 19/50\n",
      "236/236 [==============================] - 1s 3ms/step - loss: 8.9572e-05\n",
      "Epoch 20/50\n",
      "236/236 [==============================] - 1s 3ms/step - loss: 8.8132e-05\n",
      "Epoch 21/50\n",
      "236/236 [==============================] - 1s 3ms/step - loss: 9.2351e-05\n",
      "Epoch 22/50\n",
      "236/236 [==============================] - 1s 3ms/step - loss: 8.9047e-05\n",
      "Epoch 23/50\n",
      "236/236 [==============================] - 1s 3ms/step - loss: 9.1252e-05\n",
      "Epoch 24/50\n",
      "236/236 [==============================] - 1s 3ms/step - loss: 8.7329e-05\n",
      "Epoch 25/50\n",
      "236/236 [==============================] - 1s 4ms/step - loss: 8.6356e-05\n",
      "Epoch 26/50\n",
      "236/236 [==============================] - 1s 4ms/step - loss: 7.9722e-05\n",
      "Epoch 27/50\n",
      "236/236 [==============================] - 1s 3ms/step - loss: 7.7326e-05\n",
      "Epoch 28/50\n",
      "236/236 [==============================] - 1s 3ms/step - loss: 7.9484e-05\n",
      "Epoch 29/50\n",
      "236/236 [==============================] - 1s 3ms/step - loss: 7.4968e-05\n",
      "Epoch 30/50\n",
      "236/236 [==============================] - 1s 4ms/step - loss: 7.6606e-05\n",
      "Epoch 31/50\n",
      "236/236 [==============================] - 1s 3ms/step - loss: 7.4709e-05\n",
      "Epoch 32/50\n",
      "236/236 [==============================] - 1s 3ms/step - loss: 7.5128e-05\n",
      "Epoch 33/50\n",
      "236/236 [==============================] - 1s 3ms/step - loss: 7.1158e-05\n",
      "Epoch 34/50\n",
      "236/236 [==============================] - 1s 3ms/step - loss: 7.4566e-05\n",
      "Epoch 35/50\n",
      "236/236 [==============================] - 1s 3ms/step - loss: 7.8494e-05\n",
      "Epoch 36/50\n",
      "236/236 [==============================] - 1s 3ms/step - loss: 7.1426e-05\n",
      "Epoch 37/50\n",
      "236/236 [==============================] - 1s 3ms/step - loss: 7.2017e-05\n",
      "Epoch 38/50\n",
      "236/236 [==============================] - 1s 3ms/step - loss: 6.9779e-05\n",
      "Epoch 39/50\n",
      "236/236 [==============================] - 1s 3ms/step - loss: 6.8949e-05\n",
      "Epoch 40/50\n",
      "236/236 [==============================] - 1s 4ms/step - loss: 6.7606e-05\n",
      "Epoch 41/50\n",
      "236/236 [==============================] - 1s 4ms/step - loss: 7.2266e-05\n",
      "Epoch 42/50\n",
      "236/236 [==============================] - 1s 4ms/step - loss: 7.2046e-05\n",
      "Epoch 43/50\n",
      "236/236 [==============================] - 1s 3ms/step - loss: 7.2916e-05\n",
      "Epoch 44/50\n",
      "236/236 [==============================] - 1s 3ms/step - loss: 7.0968e-05\n",
      "Epoch 45/50\n",
      "236/236 [==============================] - 1s 3ms/step - loss: 6.7359e-05\n",
      "Epoch 46/50\n",
      "236/236 [==============================] - 1s 3ms/step - loss: 6.9243e-05\n",
      "Epoch 47/50\n",
      "236/236 [==============================] - 1s 3ms/step - loss: 7.1338e-05\n",
      "Epoch 48/50\n",
      "236/236 [==============================] - 1s 3ms/step - loss: 6.8605e-05\n",
      "Epoch 49/50\n",
      "236/236 [==============================] - 1s 3ms/step - loss: 6.9482e-05\n",
      "Epoch 50/50\n",
      "236/236 [==============================] - 1s 3ms/step - loss: 6.8788e-05\n"
     ]
    },
    {
     "data": {
      "text/plain": [
       "<keras.callbacks.History at 0x1ea69b9c850>"
      ]
     },
     "execution_count": 58,
     "metadata": {},
     "output_type": "execute_result"
    }
   ],
   "source": [
    "model = Sequential()\n",
    "model.add(LSTM(units=50, activation='relu', input_shape=(X_train.shape[1], 1)))\n",
    "model.add(Dense(units=1))\n",
    "model.compile(optimizer='adam', loss='mean_squared_error')\n",
    "model.fit(X_train, y_train, epochs=50, batch_size=32)\n"
   ]
  },
  {
   "cell_type": "code",
   "execution_count": 59,
   "id": "164b6f23",
   "metadata": {
    "executionInfo": {
     "elapsed": 60,
     "status": "aborted",
     "timestamp": 1691987278539,
     "user": {
      "displayName": "Lavkush Chaudhary",
      "userId": "01013648497488669597"
     },
     "user_tz": -330
    },
    "id": "164b6f23"
   },
   "outputs": [
    {
     "name": "stdout",
     "output_type": "stream",
     "text": [
      "59/59 [==============================] - 0s 2ms/step\n",
      "LSTM MAE: 1.1571205977060026\n",
      "LSTM RMSE: 1.7385263757198854\n"
     ]
    }
   ],
   "source": [
    "# Predictions\n",
    "lstm_predictions = model.predict(X_test)\n",
    "lstm_predictions = scaler.inverse_transform(lstm_predictions)\n",
    "# Evaluate the LSTM model\n",
    "lstm_mae = mean_absolute_error(test['value'][-len(lstm_predictions):], lstm_predictions)\n",
    "lstm_rmse = np.sqrt(mean_squared_error(test['value'][-len(lstm_predictions):], lstm_predictions))\n",
    "print(\"LSTM MAE:\", lstm_mae)\n",
    "print(\"LSTM RMSE:\", lstm_rmse)"
   ]
  },
  {
   "cell_type": "code",
   "execution_count": 60,
   "id": "738ea9b1",
   "metadata": {
    "executionInfo": {
     "elapsed": 61,
     "status": "aborted",
     "timestamp": 1691987278540,
     "user": {
      "displayName": "Lavkush Chaudhary",
      "userId": "01013648497488669597"
     },
     "user_tz": -330
    },
    "id": "738ea9b1"
   },
   "outputs": [
    {
     "data": {
      "text/html": [
       "<div>\n",
       "<style scoped>\n",
       "    .dataframe tbody tr th:only-of-type {\n",
       "        vertical-align: middle;\n",
       "    }\n",
       "\n",
       "    .dataframe tbody tr th {\n",
       "        vertical-align: top;\n",
       "    }\n",
       "\n",
       "    .dataframe thead th {\n",
       "        text-align: right;\n",
       "    }\n",
       "</style>\n",
       "<table border=\"1\" class=\"dataframe\">\n",
       "  <thead>\n",
       "    <tr style=\"text-align: right;\">\n",
       "      <th></th>\n",
       "      <th>Method</th>\n",
       "      <th>RMSE</th>\n",
       "    </tr>\n",
       "  </thead>\n",
       "  <tbody>\n",
       "    <tr>\n",
       "      <th>0</th>\n",
       "      <td>Linear method</td>\n",
       "      <td>40.937825</td>\n",
       "    </tr>\n",
       "    <tr>\n",
       "      <th>0</th>\n",
       "      <td>Exponential Model</td>\n",
       "      <td>68.004093</td>\n",
       "    </tr>\n",
       "    <tr>\n",
       "      <th>0</th>\n",
       "      <td>Quadratic Model</td>\n",
       "      <td>68.004093</td>\n",
       "    </tr>\n",
       "    <tr>\n",
       "      <th>0</th>\n",
       "      <td>Naive Model</td>\n",
       "      <td>29.930000</td>\n",
       "    </tr>\n",
       "    <tr>\n",
       "      <th>0</th>\n",
       "      <td>Simple moving average</td>\n",
       "      <td>26.780000</td>\n",
       "    </tr>\n",
       "    <tr>\n",
       "      <th>0</th>\n",
       "      <td>ARIMA</td>\n",
       "      <td>29.321587</td>\n",
       "    </tr>\n",
       "    <tr>\n",
       "      <th>0</th>\n",
       "      <td>LSTM</td>\n",
       "      <td>1.738526</td>\n",
       "    </tr>\n",
       "  </tbody>\n",
       "</table>\n",
       "</div>"
      ],
      "text/plain": [
       "                   Method       RMSE\n",
       "0           Linear method  40.937825\n",
       "0       Exponential Model  68.004093\n",
       "0         Quadratic Model  68.004093\n",
       "0             Naive Model  29.930000\n",
       "0  Simple moving average   26.780000\n",
       "0                   ARIMA  29.321587\n",
       "0                    LSTM   1.738526"
      ]
     },
     "execution_count": 60,
     "metadata": {},
     "output_type": "execute_result"
    }
   ],
   "source": [
    "tempResults = pd.DataFrame({'Method':['LSTM'], 'RMSE': [lstm_rmse] })\n",
    "results = pd.concat([results, tempResults])\n",
    "results = results[['Method', 'RMSE']]\n",
    "results"
   ]
  },
  {
   "cell_type": "markdown",
   "id": "83bea625",
   "metadata": {
    "id": "83bea625"
   },
   "source": [
    "## GRU"
   ]
  },
  {
   "cell_type": "code",
   "execution_count": 61,
   "id": "9837d385",
   "metadata": {
    "executionInfo": {
     "elapsed": 61,
     "status": "aborted",
     "timestamp": 1691987278540,
     "user": {
      "displayName": "Lavkush Chaudhary",
      "userId": "01013648497488669597"
     },
     "user_tz": -330
    },
    "id": "9837d385"
   },
   "outputs": [],
   "source": [
    "from tensorflow.keras.layers import GRU"
   ]
  },
  {
   "cell_type": "code",
   "execution_count": 62,
   "id": "10336fda",
   "metadata": {
    "executionInfo": {
     "elapsed": 62,
     "status": "aborted",
     "timestamp": 1691987278541,
     "user": {
      "displayName": "Lavkush Chaudhary",
      "userId": "01013648497488669597"
     },
     "user_tz": -330
    },
    "id": "10336fda"
   },
   "outputs": [],
   "source": [
    "scaler = MinMaxScaler()\n",
    "scaled_data = scaler.fit_transform(df2[['value']])\n",
    "\n",
    "sequence_length = 10\n",
    "sequences = []\n",
    "target = []\n",
    "for i in range(sequence_length, len(scaled_data)):\n",
    "    sequences.append(scaled_data[i - sequence_length:i, 0])\n",
    "    target.append(scaled_data[i, 0])\n",
    "\n",
    "X = np.array(sequences)\n",
    "y = np.array(target)\n",
    "\n",
    "train_size = int(len(X) * 0.8)\n",
    "X_train, X_test = X[:train_size], X[train_size:]\n",
    "y_train, y_test = y[:train_size], y[train_size:]"
   ]
  },
  {
   "cell_type": "code",
   "execution_count": 63,
   "id": "50bb7064",
   "metadata": {
    "executionInfo": {
     "elapsed": 61,
     "status": "aborted",
     "timestamp": 1691987278541,
     "user": {
      "displayName": "Lavkush Chaudhary",
      "userId": "01013648497488669597"
     },
     "user_tz": -330
    },
    "id": "50bb7064"
   },
   "outputs": [
    {
     "name": "stdout",
     "output_type": "stream",
     "text": [
      "Epoch 1/50\n",
      "236/236 [==============================] - 2s 3ms/step - loss: 0.0108\n",
      "Epoch 2/50\n",
      "236/236 [==============================] - 1s 3ms/step - loss: 1.2894e-04\n",
      "Epoch 3/50\n",
      "236/236 [==============================] - 1s 3ms/step - loss: 1.2079e-04\n",
      "Epoch 4/50\n",
      "236/236 [==============================] - 1s 3ms/step - loss: 1.1748e-04\n",
      "Epoch 5/50\n",
      "236/236 [==============================] - 1s 3ms/step - loss: 1.1135e-04\n",
      "Epoch 6/50\n",
      "236/236 [==============================] - 1s 3ms/step - loss: 1.0450e-04\n",
      "Epoch 7/50\n",
      "236/236 [==============================] - 1s 3ms/step - loss: 9.6391e-05\n",
      "Epoch 8/50\n",
      "236/236 [==============================] - 1s 3ms/step - loss: 9.4089e-05\n",
      "Epoch 9/50\n",
      "236/236 [==============================] - 1s 3ms/step - loss: 9.5477e-05\n",
      "Epoch 10/50\n",
      "236/236 [==============================] - 1s 3ms/step - loss: 9.3961e-05\n",
      "Epoch 11/50\n",
      "236/236 [==============================] - 1s 3ms/step - loss: 9.0000e-05\n",
      "Epoch 12/50\n",
      "236/236 [==============================] - 1s 3ms/step - loss: 8.1699e-05\n",
      "Epoch 13/50\n",
      "236/236 [==============================] - 1s 3ms/step - loss: 8.1200e-05\n",
      "Epoch 14/50\n",
      "236/236 [==============================] - 1s 3ms/step - loss: 8.2638e-05\n",
      "Epoch 15/50\n",
      "236/236 [==============================] - 1s 3ms/step - loss: 8.2152e-05\n",
      "Epoch 16/50\n",
      "236/236 [==============================] - 1s 4ms/step - loss: 7.4476e-05\n",
      "Epoch 17/50\n",
      "236/236 [==============================] - 1s 3ms/step - loss: 8.3757e-05\n",
      "Epoch 18/50\n",
      "236/236 [==============================] - 1s 5ms/step - loss: 7.2866e-05\n",
      "Epoch 19/50\n",
      "236/236 [==============================] - 1s 5ms/step - loss: 7.4075e-05\n",
      "Epoch 20/50\n",
      "236/236 [==============================] - 1s 4ms/step - loss: 7.5237e-05\n",
      "Epoch 21/50\n",
      "236/236 [==============================] - 1s 3ms/step - loss: 7.3478e-05\n",
      "Epoch 22/50\n",
      "236/236 [==============================] - 1s 4ms/step - loss: 7.6717e-05\n",
      "Epoch 23/50\n",
      "236/236 [==============================] - 1s 4ms/step - loss: 7.2625e-05\n",
      "Epoch 24/50\n",
      "236/236 [==============================] - 1s 3ms/step - loss: 7.1886e-05\n",
      "Epoch 25/50\n",
      "236/236 [==============================] - 1s 3ms/step - loss: 7.0133e-05\n",
      "Epoch 26/50\n",
      "236/236 [==============================] - 1s 3ms/step - loss: 7.0182e-05\n",
      "Epoch 27/50\n",
      "236/236 [==============================] - 1s 3ms/step - loss: 6.7582e-05\n",
      "Epoch 28/50\n",
      "236/236 [==============================] - 1s 4ms/step - loss: 6.9738e-05\n",
      "Epoch 29/50\n",
      "236/236 [==============================] - 1s 3ms/step - loss: 7.2400e-05\n",
      "Epoch 30/50\n",
      "236/236 [==============================] - 1s 3ms/step - loss: 6.8381e-05\n",
      "Epoch 31/50\n",
      "236/236 [==============================] - 1s 3ms/step - loss: 7.0525e-05\n",
      "Epoch 32/50\n",
      "236/236 [==============================] - 1s 3ms/step - loss: 6.8773e-05\n",
      "Epoch 33/50\n",
      "236/236 [==============================] - 1s 3ms/step - loss: 6.9660e-05\n",
      "Epoch 34/50\n",
      "236/236 [==============================] - 1s 3ms/step - loss: 7.1424e-05\n",
      "Epoch 35/50\n",
      "236/236 [==============================] - 1s 3ms/step - loss: 7.2424e-05\n",
      "Epoch 36/50\n",
      "236/236 [==============================] - 1s 3ms/step - loss: 6.8843e-05\n",
      "Epoch 37/50\n",
      "236/236 [==============================] - 1s 3ms/step - loss: 6.9265e-05\n",
      "Epoch 38/50\n",
      "236/236 [==============================] - 1s 3ms/step - loss: 6.6235e-05\n",
      "Epoch 39/50\n",
      "236/236 [==============================] - 1s 3ms/step - loss: 6.8077e-05\n",
      "Epoch 40/50\n",
      "236/236 [==============================] - 1s 3ms/step - loss: 6.5589e-05\n",
      "Epoch 41/50\n",
      "236/236 [==============================] - 1s 3ms/step - loss: 7.1156e-05\n",
      "Epoch 42/50\n",
      "236/236 [==============================] - 1s 4ms/step - loss: 6.7562e-05\n",
      "Epoch 43/50\n",
      "236/236 [==============================] - 1s 3ms/step - loss: 7.4188e-05\n",
      "Epoch 44/50\n",
      "236/236 [==============================] - 1s 4ms/step - loss: 6.7693e-05\n",
      "Epoch 45/50\n",
      "236/236 [==============================] - 1s 3ms/step - loss: 6.6923e-05\n",
      "Epoch 46/50\n",
      "236/236 [==============================] - 1s 3ms/step - loss: 6.9789e-05\n",
      "Epoch 47/50\n",
      "236/236 [==============================] - 1s 3ms/step - loss: 6.5309e-05\n",
      "Epoch 48/50\n",
      "236/236 [==============================] - 1s 3ms/step - loss: 6.6772e-05\n",
      "Epoch 49/50\n",
      "236/236 [==============================] - 1s 3ms/step - loss: 6.8631e-05\n",
      "Epoch 50/50\n",
      "236/236 [==============================] - 1s 3ms/step - loss: 6.7068e-05\n"
     ]
    },
    {
     "data": {
      "text/plain": [
       "<keras.callbacks.History at 0x1ea69fee400>"
      ]
     },
     "execution_count": 63,
     "metadata": {},
     "output_type": "execute_result"
    }
   ],
   "source": [
    "model_gru = Sequential()\n",
    "model_gru.add(GRU(units=50, activation='relu', input_shape=(X_train.shape[1], 1)))\n",
    "model_gru.add(Dense(units=1))\n",
    "model_gru.compile(optimizer='adam', loss='mean_squared_error')\n",
    "model_gru.fit(X_train, y_train, epochs=50, batch_size=32)"
   ]
  },
  {
   "cell_type": "code",
   "execution_count": 64,
   "id": "10aab161",
   "metadata": {
    "executionInfo": {
     "elapsed": 61,
     "status": "aborted",
     "timestamp": 1691987278542,
     "user": {
      "displayName": "Lavkush Chaudhary",
      "userId": "01013648497488669597"
     },
     "user_tz": -330
    },
    "id": "10aab161"
   },
   "outputs": [
    {
     "name": "stdout",
     "output_type": "stream",
     "text": [
      "59/59 [==============================] - 0s 1ms/step\n",
      "GRU MAE: 1.154966792838048\n",
      "GRU RMSE: 1.7165361065381732\n"
     ]
    }
   ],
   "source": [
    "#predictions\n",
    "gru_predictions = model_gru.predict(X_test)\n",
    "gru_predictions = scaler.inverse_transform(gru_predictions)\n",
    "\n",
    "gru_mae = mean_absolute_error(test['value'][-len(gru_predictions):], gru_predictions)\n",
    "gru_rmse = np.sqrt(mean_squared_error(test['value'][-len(gru_predictions):], gru_predictions))\n",
    "\n",
    "print(\"GRU MAE:\", gru_mae)\n",
    "print(\"GRU RMSE:\", gru_rmse)"
   ]
  },
  {
   "cell_type": "code",
   "execution_count": 65,
   "id": "7577a5cc",
   "metadata": {
    "executionInfo": {
     "elapsed": 61,
     "status": "aborted",
     "timestamp": 1691987278542,
     "user": {
      "displayName": "Lavkush Chaudhary",
      "userId": "01013648497488669597"
     },
     "user_tz": -330
    },
    "id": "7577a5cc"
   },
   "outputs": [
    {
     "data": {
      "text/html": [
       "<div>\n",
       "<style scoped>\n",
       "    .dataframe tbody tr th:only-of-type {\n",
       "        vertical-align: middle;\n",
       "    }\n",
       "\n",
       "    .dataframe tbody tr th {\n",
       "        vertical-align: top;\n",
       "    }\n",
       "\n",
       "    .dataframe thead th {\n",
       "        text-align: right;\n",
       "    }\n",
       "</style>\n",
       "<table border=\"1\" class=\"dataframe\">\n",
       "  <thead>\n",
       "    <tr style=\"text-align: right;\">\n",
       "      <th></th>\n",
       "      <th>Method</th>\n",
       "      <th>RMSE</th>\n",
       "    </tr>\n",
       "  </thead>\n",
       "  <tbody>\n",
       "    <tr>\n",
       "      <th>0</th>\n",
       "      <td>Linear method</td>\n",
       "      <td>40.937825</td>\n",
       "    </tr>\n",
       "    <tr>\n",
       "      <th>0</th>\n",
       "      <td>Exponential Model</td>\n",
       "      <td>68.004093</td>\n",
       "    </tr>\n",
       "    <tr>\n",
       "      <th>0</th>\n",
       "      <td>Quadratic Model</td>\n",
       "      <td>68.004093</td>\n",
       "    </tr>\n",
       "    <tr>\n",
       "      <th>0</th>\n",
       "      <td>Naive Model</td>\n",
       "      <td>29.930000</td>\n",
       "    </tr>\n",
       "    <tr>\n",
       "      <th>0</th>\n",
       "      <td>Simple moving average</td>\n",
       "      <td>26.780000</td>\n",
       "    </tr>\n",
       "    <tr>\n",
       "      <th>0</th>\n",
       "      <td>ARIMA</td>\n",
       "      <td>29.321587</td>\n",
       "    </tr>\n",
       "    <tr>\n",
       "      <th>0</th>\n",
       "      <td>LSTM</td>\n",
       "      <td>1.738526</td>\n",
       "    </tr>\n",
       "    <tr>\n",
       "      <th>0</th>\n",
       "      <td>GRU</td>\n",
       "      <td>1.716536</td>\n",
       "    </tr>\n",
       "  </tbody>\n",
       "</table>\n",
       "</div>"
      ],
      "text/plain": [
       "                   Method       RMSE\n",
       "0           Linear method  40.937825\n",
       "0       Exponential Model  68.004093\n",
       "0         Quadratic Model  68.004093\n",
       "0             Naive Model  29.930000\n",
       "0  Simple moving average   26.780000\n",
       "0                   ARIMA  29.321587\n",
       "0                    LSTM   1.738526\n",
       "0                     GRU   1.716536"
      ]
     },
     "execution_count": 65,
     "metadata": {},
     "output_type": "execute_result"
    }
   ],
   "source": [
    "tempResults = pd.DataFrame({'Method':['GRU'], 'RMSE': [gru_rmse] })\n",
    "results = pd.concat([results, tempResults])\n",
    "results = results[['Method', 'RMSE']]\n",
    "results"
   ]
  },
  {
   "cell_type": "code",
   "execution_count": 66,
   "id": "a1f84fe4",
   "metadata": {
    "executionInfo": {
     "elapsed": 61,
     "status": "aborted",
     "timestamp": 1691987278543,
     "user": {
      "displayName": "Lavkush Chaudhary",
      "userId": "01013648497488669597"
     },
     "user_tz": -330
    },
    "id": "a1f84fe4"
   },
   "outputs": [
    {
     "name": "stdout",
     "output_type": "stream",
     "text": [
      "Naive Forecast MAE: 0.7409123624047418\n",
      "Naive Forecast RMSE: 1.2105135245944507\n"
     ]
    }
   ],
   "source": [
    "# Calculate Naive Forecast\n",
    "data['Naive_Forecast'] = df2['value'].shift(1)\n",
    "# Calculate Mean Absolute Error (MAE) and Root Mean Squared Error (RMSE)\n",
    "from sklearn.metrics import mean_absolute_error, mean_squared_error\n",
    "naive_mae = mean_absolute_error(df2['value'].iloc[1:], data['Naive_Forecast'].iloc[1:])\n",
    "naive_rmse = np.sqrt(mean_squared_error(df2['value'].iloc[1:], data['Naive_Forecast'].iloc[1:]))\n",
    "\n",
    "print(\"Naive Forecast MAE:\", naive_mae)\n",
    "print(\"Naive Forecast RMSE:\", naive_rmse)\n",
    "\n"
   ]
  },
  {
   "cell_type": "code",
   "execution_count": 67,
   "id": "964cbfb7",
   "metadata": {
    "executionInfo": {
     "elapsed": 62,
     "status": "aborted",
     "timestamp": 1691987278544,
     "user": {
      "displayName": "Lavkush Chaudhary",
      "userId": "01013648497488669597"
     },
     "user_tz": -330
    },
    "id": "964cbfb7",
    "scrolled": true
   },
   "outputs": [
    {
     "data": {
      "text/html": [
       "<div>\n",
       "<style scoped>\n",
       "    .dataframe tbody tr th:only-of-type {\n",
       "        vertical-align: middle;\n",
       "    }\n",
       "\n",
       "    .dataframe tbody tr th {\n",
       "        vertical-align: top;\n",
       "    }\n",
       "\n",
       "    .dataframe thead th {\n",
       "        text-align: right;\n",
       "    }\n",
       "</style>\n",
       "<table border=\"1\" class=\"dataframe\">\n",
       "  <thead>\n",
       "    <tr style=\"text-align: right;\">\n",
       "      <th></th>\n",
       "      <th>Method</th>\n",
       "      <th>RMSE</th>\n",
       "    </tr>\n",
       "  </thead>\n",
       "  <tbody>\n",
       "    <tr>\n",
       "      <th>0</th>\n",
       "      <td>Linear method</td>\n",
       "      <td>40.937825</td>\n",
       "    </tr>\n",
       "    <tr>\n",
       "      <th>0</th>\n",
       "      <td>Exponential Model</td>\n",
       "      <td>68.004093</td>\n",
       "    </tr>\n",
       "    <tr>\n",
       "      <th>0</th>\n",
       "      <td>Quadratic Model</td>\n",
       "      <td>68.004093</td>\n",
       "    </tr>\n",
       "    <tr>\n",
       "      <th>0</th>\n",
       "      <td>Naive Model</td>\n",
       "      <td>29.930000</td>\n",
       "    </tr>\n",
       "    <tr>\n",
       "      <th>0</th>\n",
       "      <td>Simple moving average</td>\n",
       "      <td>26.780000</td>\n",
       "    </tr>\n",
       "    <tr>\n",
       "      <th>0</th>\n",
       "      <td>ARIMA</td>\n",
       "      <td>29.321587</td>\n",
       "    </tr>\n",
       "    <tr>\n",
       "      <th>0</th>\n",
       "      <td>LSTM</td>\n",
       "      <td>1.738526</td>\n",
       "    </tr>\n",
       "    <tr>\n",
       "      <th>0</th>\n",
       "      <td>GRU</td>\n",
       "      <td>1.716536</td>\n",
       "    </tr>\n",
       "    <tr>\n",
       "      <th>0</th>\n",
       "      <td>Naive</td>\n",
       "      <td>1.210514</td>\n",
       "    </tr>\n",
       "  </tbody>\n",
       "</table>\n",
       "</div>"
      ],
      "text/plain": [
       "                   Method       RMSE\n",
       "0           Linear method  40.937825\n",
       "0       Exponential Model  68.004093\n",
       "0         Quadratic Model  68.004093\n",
       "0             Naive Model  29.930000\n",
       "0  Simple moving average   26.780000\n",
       "0                   ARIMA  29.321587\n",
       "0                    LSTM   1.738526\n",
       "0                     GRU   1.716536\n",
       "0                   Naive   1.210514"
      ]
     },
     "execution_count": 67,
     "metadata": {},
     "output_type": "execute_result"
    }
   ],
   "source": [
    "tempResults = pd.DataFrame({'Method':['Naive'], 'RMSE': [naive_rmse] })\n",
    "results = pd.concat([results, tempResults])\n",
    "results = results[['Method', 'RMSE']]\n",
    "results"
   ]
  },
  {
   "cell_type": "markdown",
   "id": "1ecedd22",
   "metadata": {},
   "source": [
    "### Saving the `GRU` Model"
   ]
  },
  {
   "cell_type": "code",
   "execution_count": 68,
   "id": "33f45310",
   "metadata": {},
   "outputs": [],
   "source": [
    "import pickle"
   ]
  },
  {
   "cell_type": "code",
   "execution_count": 83,
   "id": "2f390e80",
   "metadata": {
    "scrolled": true
   },
   "outputs": [],
   "source": [
    "# Save the entire model to an .h5 file\n",
    "model_gru.save('trained_model.h5')"
   ]
  },
  {
   "cell_type": "code",
   "execution_count": 84,
   "id": "0a1a44af",
   "metadata": {},
   "outputs": [],
   "source": [
    "# Save the scaler using pickle\n",
    "with open('scaler.pkl', 'wb') as scaler_file:\n",
    "    pickle.dump(scaler, scaler_file)"
   ]
  },
  {
   "cell_type": "code",
   "execution_count": 85,
   "id": "53f5bfe1",
   "metadata": {},
   "outputs": [],
   "source": [
    "# Save only the model weights\n",
    "model_gru.save_weights('gru_model_weights.h5')"
   ]
  },
  {
   "cell_type": "code",
   "execution_count": 89,
   "id": "0af228b2",
   "metadata": {},
   "outputs": [],
   "source": [
    "df2. to_csv('dataset.csv', index=True)"
   ]
  },
  {
   "cell_type": "markdown",
   "id": "fc11acea",
   "metadata": {},
   "source": [
    "- Saving the `LSTM` model"
   ]
  },
  {
   "cell_type": "code",
   "execution_count": 90,
   "id": "3325148d",
   "metadata": {},
   "outputs": [],
   "source": [
    "from tensorflow.keras.models import Sequential\n",
    "from tensorflow.keras.layers import LSTM, Dense\n",
    "\n",
    "# Save the trained model\n",
    "model.save('trained_lstm_model.h5')"
   ]
  },
  {
   "cell_type": "code",
   "execution_count": 91,
   "id": "416a1542",
   "metadata": {},
   "outputs": [],
   "source": [
    "# Save scaler\n",
    "with open('scaler.pkl', 'wb') as scaler_file:\n",
    "    pickle.dump(scaler, scaler_file)"
   ]
  },
  {
   "cell_type": "code",
   "execution_count": 92,
   "id": "673ba4c8",
   "metadata": {},
   "outputs": [],
   "source": [
    "# After model training\n",
    "model.save_weights('lstm_model_weights.h5')"
   ]
  },
  {
   "cell_type": "code",
   "execution_count": null,
   "id": "e7f232c8",
   "metadata": {},
   "outputs": [],
   "source": []
  }
 ],
 "metadata": {
  "colab": {
   "provenance": []
  },
  "kernelspec": {
   "display_name": "Python 3 (ipykernel)",
   "language": "python",
   "name": "python3"
  },
  "language_info": {
   "codemirror_mode": {
    "name": "ipython",
    "version": 3
   },
   "file_extension": ".py",
   "mimetype": "text/x-python",
   "name": "python",
   "nbconvert_exporter": "python",
   "pygments_lexer": "ipython3",
   "version": "3.9.12"
  }
 },
 "nbformat": 4,
 "nbformat_minor": 5
}
